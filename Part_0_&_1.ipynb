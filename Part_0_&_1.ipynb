{
 "cells": [
  {
   "cell_type": "markdown",
   "metadata": {},
   "source": [
    "# **Advanced Methods in Natural Language Processing(NLP)**\n",
    "\n",
    "<p align=\"center\">\n",
    "    <img src=\"https://upload.wikimedia.org/wikipedia/commons/4/41/BSE_primary_logo_color.jpg\" width=\"400\" />\n",
    "</p>\n",
    "\n",
    "### Final Project"
   ]
  },
  {
   "cell_type": "markdown",
   "metadata": {},
   "source": [
    "# Part 0: Dataset Selection"
   ]
  },
  {
   "cell_type": "markdown",
   "metadata": {},
   "source": [
    "> **Objective**: Choose a unique dataset for text classification from the HuggingFace hub, as stated in the course notes."
   ]
  },
  {
   "cell_type": "markdown",
   "metadata": {},
   "source": [
    "### 📂 Dataset:\n",
    "[Big Patent dataset](https://huggingface.co/datasets/NortheasternUniversity/big_patent)\n",
    "\n",
    "We chose the BigPatent dataset from the HuggingFace (NortheasternUniversity/big_patent). This dataset is made from real U.S. patent documents and our goal is to build a model that can classify each patent into one of the CPC (Cooperative Patent Classification) categories by reading only the abstract(text)\n",
    "\n",
    "To keep things simple and focused, we are only using the validation split of the dataset. This part includes 67,068 observations."
   ]
  },
  {
   "cell_type": "markdown",
   "metadata": {},
   "source": [
    "# Part 1: Setting Up the Problem (1.5 points)"
   ]
  },
  {
   "cell_type": "markdown",
   "metadata": {},
   "source": [
    "> **Objective**: Understand and establish the baseline for the Big Patent dataset."
   ]
  },
  {
   "cell_type": "markdown",
   "metadata": {},
   "source": [
    "### Task 1a: Bibliography and State of the Art(SOA) (0.25 points):"
   ]
  },
  {
   "cell_type": "markdown",
   "metadata": {},
   "source": [
    "> Present briefly your task by researching and documenting the main objective, a potential business case and the current state of the art for your dataset's task. Include relevant benchmarks and methodologies. You can look at google scholar, NLP index or papers with code."
   ]
  },
  {
   "cell_type": "markdown",
   "metadata": {},
   "source": [
    "<span style=\"color:green\"><b>Objective:</b></span>"
   ]
  },
  {
   "cell_type": "markdown",
   "metadata": {},
   "source": [
    ">The task is multi-class text classification using patent abstracts from the BigPatent dataset. Each abstract describes a technical invention and is labeled with a CPC (Cooperative Patent Classification) code, which categorizes the patent into one of nine technology areas. The goal of this project is to train a model that can automatically predict the correct CPC class from the abstract alone.\n",
    "\n",
    "So, \n",
    "\n",
    "| **Task**      | **Multi-class Text Classification** |\n",
    "|:--------------|:-----------------------------------|\n",
    "| **Input**     | Patent **Abstract** (text only)     |\n",
    "| **Output**    | **CPC Category** (1 of 9 classes)   |\n",
    "\n",
    "\n",
    "\n",
    "Predicting the correct **CPC (Cooperative Patent Classification)** code for each patent using only its abstract."
   ]
  },
  {
   "cell_type": "markdown",
   "metadata": {},
   "source": [
    "<span style=\"color:green\"><b>Potential Business Case:</b></span>"
   ]
  },
  {
   "cell_type": "markdown",
   "metadata": {},
   "source": [
    ">Although the BigPatent paper (Sharma et al., 2019) mainly focuses on summarization, it gives a very clear understanding of the dataset's structure and the challenges involved. Based on this, we can also understand the potential business use case for our classification task. Patents are often long and technical, and even though the abstract is shorter, it still contains specialized language(domain related) that requires domain knowledge to interpret. Manually reading and classifying large volumes of patent documents is slow and requires expert effort.\n",
    "\n",
    "> A key business application of this task is to help patent offices (such as the USPTO or EPO) assign the correct CPC classification codes to new patent submissions. This can help keep track of different categories and make patent records easier to manage. It also supports better search tools for patents, similar to organizing books in a library by topic. In addition, legal teams, research departments, and companies can use this classification to organize large sets of technical documents, analyze technology trends, and monitor competitors. Automating this process could save time, reduce human error, and improve consistency across records."
   ]
  },
  {
   "cell_type": "markdown",
   "metadata": {},
   "source": [
    "<span style=\"color:green\"><b>Current State of the Art(benchmarks and Methodology):</b></span>"
   ]
  },
  {
   "cell_type": "markdown",
   "metadata": {},
   "source": [
    "> Patent abstract classification is usually a **multi-class task**, where each abstract is assigned to one technical category like a CPC or IPC code. This can also be extended to **multi-label** problems when patents belong to multiple categories.\n",
    "\n",
    ">In recent years, transformer-based models (like BERT and XLNet) have become the most successful approach. These models are **pretrained on large text corpora** and then **fine-tuned** for patent classification. They consistently outperform older methods like CNNs (e.g. DeepPatent).\n",
    "\n",
    ">For tasks like **BigPatent**, which involves only 9 CPC sections, these models perform even better because the classification is broader. For example, **DistilBERT** has reached **80%+ accuracy** when classifying patents into top-level CPC classes."
   ]
  },
  {
   "cell_type": "markdown",
   "metadata": {},
   "source": [
    "### Model Benchmarks\n",
    "\n",
    "| **Model**            | **Task / Dataset**                                     | **Metric**           | **Notes**                                                                 |\n",
    "|----------------------|--------------------------------------------------------|----------------------|---------------------------------------------------------------------------|\n",
    "| **DistilBERT**       | CPC section classification (9 classes, BigPatent/USPTO) | 80–90% Accuracy      | High-level CPC section classification (e.g. BigPatent); based on HUPD and USPTO studies |\n",
    "| **PatentBERT**       | Multi-class classification (600+ IPC classes, USPTO-2M) | ~65–67% Macro F1     | Fine-tuned BERT on patent data; strong results for detailed subclass prediction |\n",
    "| **XLNet**            | Same task as BERT (USPTO-2M)                            | ~63% Macro F1        | Performs well, slightly lower than BERT                                   |\n",
    "| **SBERT + k-NN**     | Subclass classification (USPTO)                        | ~66.5% Macro F1      | Uses sentence embeddings with k-nearest neighbor search                   |\n",
    "| **DeepPatent (CNN)** | Early model using CNN on patent abstracts/claims       | ~43% Macro F1        | Significantly weaker than transformers                                    |"
   ]
  },
  {
   "cell_type": "markdown",
   "metadata": {},
   "source": [
    "\n",
    "- **Transformer models** like BERT, XLNet, and SBERT are the **current state of the art**.\n",
    "- They are trained using the **abstract or full patent text** and fine-tuned for CPC/IPC label prediction.\n",
    "- Performance is measured using **Macro F1** because of class imbalance.\n",
    "- On broad classification (like 9 CPC classes in BigPatent), models like BERT can achieve **80–90% accuracy**.\n",
    "- Earlier models like CNNs (e.g. DeepPatent) perform significantly worse."
   ]
  },
  {
   "cell_type": "markdown",
   "metadata": {},
   "source": [
    "1. **Lee, J. H., & Hsiang, J. (2020).**  \n",
    "   *Patent classification by fine-tuning BERT language model.*  \n",
    "   _Artificial Intelligence and Law, 28_, 109–124.  \n",
    "   [https://doi.org/10.1007/s10506-019-09256-5](https://doi.org/10.1007/s10506-019-09256-5)\n",
    "\n",
    "2. **Li, Y., Yoshioka, M., & Masuyama, S. (2018).**  \n",
    "   *DeepPatent: Patent Classification with Convolutional Neural Networks and Word Embeddings.*  \n",
    "   In Proceedings of the 17th International Semantic Web Conference.  \n",
    "   [https://arxiv.org/abs/1805.10816](https://arxiv.org/abs/1805.10816)\n",
    "\n",
    "3. **Bekamiri, A., Tian, Y., & Pham, T. (2021).**  \n",
    "   *Patent classification using SBERT and k-nearest neighbors.*  \n",
    "   In: Proceedings of the International Conference on Knowledge Engineering and Applications (ICKEA).  \n",
    "   [https://doi.org/10.1145/3507911.3507932](https://doi.org/10.1145/3507911.3507932)\n",
    "\n",
    "4. **Sharma, A., Xie, P., & Paul, S. (2019).**  \n",
    "   *BIGPatent: A Large-Scale Dataset for Abstractive and Coherent Summarization.*  \n",
    "   In Proceedings of ACL 2019.  \n",
    "   [https://arxiv.org/abs/1906.03741](https://arxiv.org/abs/1906.03741)\n",
    "\n",
    "5. **Beltagy, I., Peters, M. E., & Cohan, A. (2020).**  \n",
    "   *Longformer: The Long-Document Transformer.*  \n",
    "   [https://arxiv.org/abs/2004.05150](https://arxiv.org/abs/2004.05150)"
   ]
  },
  {
   "cell_type": "markdown",
   "metadata": {},
   "source": [
    "### Task 1B: Dataset Description (0.5 points):"
   ]
  },
  {
   "cell_type": "markdown",
   "metadata": {},
   "source": [
    "> Provide a brief overview of your dataset, including size, class distribution, and any peculiar characteristics. Include basic descriptive statistics."
   ]
  },
  {
   "cell_type": "code",
   "execution_count": 1,
   "metadata": {},
   "outputs": [],
   "source": [
    "# Importing required packages \n",
    "\n",
    "import random\n",
    "import numpy as np\n",
    "import pandas as pd\n",
    "import seaborn as sns\n",
    "import matplotlib.pyplot as plt\n",
    "from collections import Counter\n",
    "from sklearn.model_selection import train_test_split\n",
    "from sklearn.preprocessing import LabelEncoder\n",
    "from sklearn.dummy import DummyClassifier\n",
    "from sklearn.metrics import accuracy_score, classification_report, confusion_matrix\n",
    "from tabulate import tabulate\n",
    "from collections import defaultdict\n",
    "from sklearn.feature_extraction.text import TfidfVectorizer\n",
    "from sklearn.linear_model import LogisticRegression\n",
    "from sklearn.pipeline import Pipeline\n",
    "from sklearn.metrics import multilabel_confusion_matrix\n",
    "from sklearn.metrics import ConfusionMatrixDisplay\n",
    "\n",
    "import warnings\n",
    "import os\n",
    "from tqdm import tqdm\n",
    "import re\n",
    "\n",
    "# Ignore warnings\n",
    "warnings.filterwarnings('ignore')\n",
    "\n",
    "# Set random seed\n",
    "RANDOM_SEED = 42\n",
    "random.seed(RANDOM_SEED)\n",
    "np.random.seed(RANDOM_SEED)\n",
    "\n",
    "# Plotting style\n",
    "plt.style.use('ggplot')\n",
    "sns.set_palette(\"Set2\")"
   ]
  },
  {
   "cell_type": "code",
   "execution_count": null,
   "metadata": {},
   "outputs": [],
   "source": [
    "# Loading dataset (already downloaded)\n",
    "df = pd.read_csv('patent_corpus.csv')\n",
    "\n",
    "# Creating 60/20/20 split (train/validation/test) using random sampling\n",
    "train_df, temp_df = train_test_split(df, test_size=0.4, random_state=42)\n",
    "validation_df, test_df = train_test_split(temp_df, test_size=0.5, random_state=42)\n",
    "\n",
    "# Saving splits\n",
    "os.makedirs(\"data/splits\", exist_ok=True)\n",
    "train_df.to_csv(\"data/splits/train.csv\", index=False)\n",
    "validation_df.to_csv(\"data/splits/validation.csv\", index=False)\n",
    "test_df.to_csv(\"data/splits/test.csv\", index=False)"
   ]
  },
  {
   "cell_type": "code",
   "execution_count": 3,
   "metadata": {},
   "outputs": [
    {
     "name": "stdout",
     "output_type": "stream",
     "text": [
      "+----------------------+--------------------------------------------------------------------------------------------------------------------------------------------------------------------------------------------------------------------------------------------------------------------------------------------------------------------------------------------------------------------------------------------------------------------------------------------------------------------------------------------------------------------------------------------------------------------------------------------------------------------------------------------------------------------------------------------------------------------------------------------------------------------------------------------------------------------------------------------------------------------------------------------------------------------------------------------------------------------------------------------------------------------------------------------------------------------------------------------------------------------+---------+\n",
      "| publication_number   | abstract                                                                                                                                                                                                                                                                                                                                                                                                                                                                                                                                                                                                                                                                                                                                                                                                                                                                                                                                                                                                                                                                                                           | label   |\n",
      "+======================+====================================================================================================================================================================================================================================================================================================================================================================================================================================================================================================================================================================================================================================================================================================================================================================================================================================================================================================================================================================================================================================================================================================================+=========+\n",
      "| US-4880990-A         | An optical sensor element provides cantilevered support of a bent length of glass-rod core of first refractive index having a cladding of second refractive index that is less than the refractive index of the core, and wherein the outer radius of the bend (which may be a single bend, or a plurality of spaced bends) is at least the diameter of the cladded core. Provision is made at the respective ends of the cladded core for completing a light circuit via the length of the cladded core, and flexible leads, as of multi-mode optical fiber, enable completion of the optical circuit to a remotely located control unit having an electrically powered light source and a photodetector, at the respective ends of the circuit. Provision of threshold-operated circuitry at the control unit enables automatic electronic evaluation (and further-remote output delivery) of signals which reflect (a) one or more detected light levels, (b) interface level between two mingled liquids having different specific gravity, and (c) the monitored integrity of the optical circuit as a whole. | y       |\n",
      "+----------------------+--------------------------------------------------------------------------------------------------------------------------------------------------------------------------------------------------------------------------------------------------------------------------------------------------------------------------------------------------------------------------------------------------------------------------------------------------------------------------------------------------------------------------------------------------------------------------------------------------------------------------------------------------------------------------------------------------------------------------------------------------------------------------------------------------------------------------------------------------------------------------------------------------------------------------------------------------------------------------------------------------------------------------------------------------------------------------------------------------------------------+---------+\n",
      "| US-6552149-B2        | A process for producing terpolymers of propylene, comprising a) feeding into a slurry reactor a reaction mixture containing 50-85 w-% of propylene, 1-10 w-% of ethylene, 15-40 w-% of another C 4 -C 8  alpha-olefin, a catalyst system maintaining olefin polymerization at said temperature conditions, and optionally hydrogen, b) polymerizing said reaction mixture at a temperature of lower than 70° C. a sufficient time to obtain a propylene terpolymer amounting to 50-99 w-% of the end product, c) transferring said reaction mixture into a gas phase reactor operating at a pressure of higher than 5 bars, preferably higher than 10 bars, optionally adding 0-30 w-% of ethylene, 0-10 w-% of another C 4 -C 8  alpha-olefin, 0-40 w-% of propylene and optionally hydrogen, and d) continuing polymerization in said gas phase reactor for obtaining a propylene terpolymer amounting to 1-50 wt-% of the end product. The terpolymer has a melting temperature a less than 135° C., preferably less than 132° C., and it can be used for manufacturing films having good sealing properties.   | y       |\n",
      "+----------------------+--------------------------------------------------------------------------------------------------------------------------------------------------------------------------------------------------------------------------------------------------------------------------------------------------------------------------------------------------------------------------------------------------------------------------------------------------------------------------------------------------------------------------------------------------------------------------------------------------------------------------------------------------------------------------------------------------------------------------------------------------------------------------------------------------------------------------------------------------------------------------------------------------------------------------------------------------------------------------------------------------------------------------------------------------------------------------------------------------------------------+---------+\n",
      "| US-9104928-B2        | A scanning system includes a synchronizing arrangement including a light guide and a photosensor. The light guide directs a light beam to a photosensor, wherein light is deflected by one or more moving elements in the scanning system into a scanning region. The light guide has a light entry region, a reflecting region for reflecting light entering the light entry region and one or more light exit faces, so that light entering the light guide through the light entry region is at least partly reflected in the reflecting region and exits through one of the exit faces. The shape and the properties of the light guide are such that for two pencils of light rays, a first pencil of light rays is spaced from the second pencil and is non-overlapping with said second pencil of light rays.                                                                                                                                                                                                                                                                                               | g       |\n",
      "+----------------------+--------------------------------------------------------------------------------------------------------------------------------------------------------------------------------------------------------------------------------------------------------------------------------------------------------------------------------------------------------------------------------------------------------------------------------------------------------------------------------------------------------------------------------------------------------------------------------------------------------------------------------------------------------------------------------------------------------------------------------------------------------------------------------------------------------------------------------------------------------------------------------------------------------------------------------------------------------------------------------------------------------------------------------------------------------------------------------------------------------------------+---------+\n",
      "| US-7839497-B1        | An apparatus comprising a phase compensator and an optical condenser in communication with the phase compensator. The phase compensator provides for phase shifting a portion of an electromagnetic wave. The optical condenser is shaped to direct the electromagnetic wave to a focal region of the optical condenser.                                                                                                                                                                                                                                                                                                                                                                                                                                                                                                                                                                                                                                                                                                                                                                                           | g       |\n",
      "+----------------------+--------------------------------------------------------------------------------------------------------------------------------------------------------------------------------------------------------------------------------------------------------------------------------------------------------------------------------------------------------------------------------------------------------------------------------------------------------------------------------------------------------------------------------------------------------------------------------------------------------------------------------------------------------------------------------------------------------------------------------------------------------------------------------------------------------------------------------------------------------------------------------------------------------------------------------------------------------------------------------------------------------------------------------------------------------------------------------------------------------------------+---------+\n",
      "| US-2011121134-A1     | An arrangement, includes a first furnishing and a second furnishing, at least one part of the first furnishing being movable in the direction of the second furnishing, and at least one part of the second furnishing being movable to free a space for receiving the at least one part of the first furnishing.                                                                                                                                                                                                                                                                                                                                                                                                                                                                                                                                                                                                                                                                                                                                                                                                  | b       |\n",
      "+----------------------+--------------------------------------------------------------------------------------------------------------------------------------------------------------------------------------------------------------------------------------------------------------------------------------------------------------------------------------------------------------------------------------------------------------------------------------------------------------------------------------------------------------------------------------------------------------------------------------------------------------------------------------------------------------------------------------------------------------------------------------------------------------------------------------------------------------------------------------------------------------------------------------------------------------------------------------------------------------------------------------------------------------------------------------------------------------------------------------------------------------------+---------+\n"
     ]
    }
   ],
   "source": [
    "# 5 random sample rows from the overall dataset \n",
    "sample_rows = df.sample(5, random_state=RANDOM_SEED)\n",
    "print(tabulate(sample_rows, headers='keys', tablefmt='grid', showindex=False))"
   ]
  },
  {
   "cell_type": "code",
   "execution_count": 4,
   "metadata": {},
   "outputs": [
    {
     "name": "stdout",
     "output_type": "stream",
     "text": [
      "+--------------------+------------+---------------------------------------------------------------------------------------------------------------------------------------------------------------+\n",
      "| Dataset            | Shape      | Label Count                                                                                                                                                   |\n",
      "+====================+============+===============================================================================================================================================================+\n",
      "| Overall Dataset    | (67068, 3) | g (14385, 21.45%), h (14279, 21.29%), a (9674, 14.42%), b (8973, 13.38%), y (6911, 10.30%), c (5613, 8.37%), f (4754, 7.09%), e (1914, 2.85%), d (565, 0.84%) |\n",
      "+--------------------+------------+---------------------------------------------------------------------------------------------------------------------------------------------------------------+\n",
      "| Train Dataset      | (40240, 3) | h (8588, 21.34%), g (8572, 21.30%), a (5776, 14.35%), b (5420, 13.47%), y (4133, 10.27%), c (3447, 8.57%), f (2837, 7.05%), e (1132, 2.81%), d (335, 0.83%)   |\n",
      "+--------------------+------------+---------------------------------------------------------------------------------------------------------------------------------------------------------------+\n",
      "| Validation Dataset | (13414, 3) | h (2920, 21.77%), g (2894, 21.57%), a (1945, 14.50%), b (1773, 13.22%), y (1341, 10.00%), c (1086, 8.10%), f (958, 7.14%), e (374, 2.79%), d (123, 0.92%)     |\n",
      "+--------------------+------------+---------------------------------------------------------------------------------------------------------------------------------------------------------------+\n",
      "| Test Dataset       | (13414, 3) | g (2919, 21.76%), h (2771, 20.66%), a (1953, 14.56%), b (1780, 13.27%), y (1437, 10.71%), c (1080, 8.05%), f (959, 7.15%), e (408, 3.04%), d (107, 0.80%)     |\n",
      "+--------------------+------------+---------------------------------------------------------------------------------------------------------------------------------------------------------------+\n"
     ]
    }
   ],
   "source": [
    "# Dataset summary with count and percentage (sorted by decreasing count) to understand distribution among classes\n",
    "def dataset_summary(data, name):\n",
    "    shape = data.shape\n",
    "    label_counts = data['label'].value_counts()\n",
    "    label_perc = data['label'].value_counts(normalize=True) * 100\n",
    "    label_stats = [\n",
    "        f\"{lbl} ({label_counts[lbl]}, {label_perc[lbl]:.2f}%)\"\n",
    "        for lbl in label_counts.index\n",
    "    ]\n",
    "    label_stats_str = \", \".join(label_stats)\n",
    "    return [name, shape, label_stats_str]\n",
    "\n",
    "# Summarize each dataset\n",
    "summaries = [\n",
    "    dataset_summary(df, \"Overall Dataset\"),\n",
    "    dataset_summary(train_df, \"Train Dataset\"),\n",
    "    dataset_summary(validation_df, \"Validation Dataset\"),\n",
    "    dataset_summary(test_df, \"Test Dataset\")\n",
    "]\n",
    "\n",
    "# Display the summary in tabular format\n",
    "headers = [\"Dataset\", \"Shape\", \"Label Count\"]\n",
    "print(tabulate(summaries, headers=headers, tablefmt=\"grid\"))"
   ]
  },
  {
   "cell_type": "code",
   "execution_count": 5,
   "metadata": {},
   "outputs": [
    {
     "name": "stdout",
     "output_type": "stream",
     "text": [
      "publication_number    object\n",
      "abstract              object\n",
      "label                 object\n",
      "dtype: object\n"
     ]
    }
   ],
   "source": [
    "print(df.dtypes)"
   ]
  },
  {
   "cell_type": "code",
   "execution_count": 6,
   "metadata": {},
   "outputs": [
    {
     "name": "stdout",
     "output_type": "stream",
     "text": [
      "+--------------------+------------------------------------------------------+\n",
      "| Dataset            | Missing Values                                       |\n",
      "+====================+======================================================+\n",
      "| Overall Dataset    | {'publication_number': 0, 'abstract': 0, 'label': 0} |\n",
      "+--------------------+------------------------------------------------------+\n",
      "| Train Dataset      | {'publication_number': 0, 'abstract': 0, 'label': 0} |\n",
      "+--------------------+------------------------------------------------------+\n",
      "| Validation Dataset | {'publication_number': 0, 'abstract': 0, 'label': 0} |\n",
      "+--------------------+------------------------------------------------------+\n",
      "| Test Dataset       | {'publication_number': 0, 'abstract': 0, 'label': 0} |\n",
      "+--------------------+------------------------------------------------------+\n"
     ]
    }
   ],
   "source": [
    "# Function to check for missing values in a dataset\n",
    "def check_missing_values(data, name):\n",
    "    missing_values = data.isnull().sum().to_dict()\n",
    "    return [name, missing_values]\n",
    "\n",
    "# Check for missing values in each dataset\n",
    "missing_values_summary = [\n",
    "    check_missing_values(df, \"Overall Dataset\"),\n",
    "    check_missing_values(train_df, \"Train Dataset\"),\n",
    "    check_missing_values(validation_df, \"Validation Dataset\"),\n",
    "    check_missing_values(test_df, \"Test Dataset\")\n",
    "]\n",
    "\n",
    "# Display the missing values summary in tabular format\n",
    "headers = [\"Dataset\", \"Missing Values\"]\n",
    "print(tabulate(missing_values_summary, headers=headers, tablefmt=\"grid\"))"
   ]
  },
  {
   "cell_type": "code",
   "execution_count": 7,
   "metadata": {},
   "outputs": [
    {
     "name": "stdout",
     "output_type": "stream",
     "text": [
      "Overall Dataset: 9 unique labels\n",
      "Train Dataset: 9 unique labels\n",
      "Validation Dataset: 9 unique labels\n",
      "Test Dataset: 9 unique labels\n"
     ]
    }
   ],
   "source": [
    "# Show the number of unique labels in each dataset\n",
    "for dset, dname in [(df, \"Overall Dataset\"),\n",
    "                    (train_df, \"Train Dataset\"),\n",
    "                    (validation_df, \"Validation Dataset\"),\n",
    "                    (test_df, \"Test Dataset\")]:\n",
    "    print(f\"{dname}: {dset['label'].nunique()} unique labels\")"
   ]
  },
  {
   "cell_type": "code",
   "execution_count": 8,
   "metadata": {},
   "outputs": [
    {
     "name": "stdout",
     "output_type": "stream",
     "text": [
      "Number of duplicate entries in the overall dataset: 0\n"
     ]
    }
   ],
   "source": [
    "# Checking for the duplicate entries in the overall dataset based on all columns\n",
    "num_duplicates = df.duplicated().sum()\n",
    "print(f\"Number of duplicate entries in the overall dataset: {num_duplicates}\")"
   ]
  },
  {
   "cell_type": "code",
   "execution_count": 9,
   "metadata": {},
   "outputs": [
    {
     "name": "stdout",
     "output_type": "stream",
     "text": [
      "Number of duplicate abstracts in the overall dataset: 1329\n"
     ]
    }
   ],
   "source": [
    "# Checking for duplicate abstracts in the overall dataset\n",
    "num_duplicate_abstracts = df['abstract'].duplicated().sum()\n",
    "print(f\"Number of duplicate abstracts in the overall dataset: {num_duplicate_abstracts}\")"
   ]
  },
  {
   "cell_type": "code",
   "execution_count": 10,
   "metadata": {},
   "outputs": [
    {
     "name": "stdout",
     "output_type": "stream",
     "text": [
      "+----------------------+--------------------------------------------------------------------------------------------------------------------------------------------------------------------------------------------------------------------------------------------------------------------------------------------------------------------------------------------------------------------------------------------------------------------------------------------------------------------------------------------------------------------------------------------------------------------------------------------------------------------------------------------------------------------------------------------------------------------------------------------------------------------------------------------------------------------------------------------------------------------------+---------+\n",
      "| publication_number   | abstract                                                                                                                                                                                                                                                                                                                                                                                                                                                                                                                                                                                                                                                                                                                                                                                                                                                                 | label   |\n",
      "+======================+==========================================================================================================================================================================================================================================================================================================================================================================================================================================================================================================================================================================================================================================================================================================================================================================================================================================================================+=========+\n",
      "| US-2005083127-A1     | A CMOS amplifier includes a CMOS inverter and a bias circuit coupled in a feedback loop between the output and input of the inverter. The bias circuit provides linear biasing so that the inverter can apply a desired gain to a high frequency input signal. The bias circuit can include an operational amplifier (op-amp) providing positive feedback control between the output and input of the inverter. By providing a reference voltage to the other input of the op-amp, the input of the inverter is regulated such that its output is driven to the reference voltage. This in turn forces the inverter to operate in its linear region, so that the inverter applies non-distorting amplification to the input AC signal. The AC signal is prevented from affecting the operation of the bias circuit by resistors coupling the bias circuit to the op-amp. | h       |\n",
      "+----------------------+--------------------------------------------------------------------------------------------------------------------------------------------------------------------------------------------------------------------------------------------------------------------------------------------------------------------------------------------------------------------------------------------------------------------------------------------------------------------------------------------------------------------------------------------------------------------------------------------------------------------------------------------------------------------------------------------------------------------------------------------------------------------------------------------------------------------------------------------------------------------------+---------+\n",
      "| US-6940353-B2        | A CMOS amplifier includes a CMOS inverter and a bias circuit coupled in a feedback loop between the output and input of the inverter. The bias circuit provides linear biasing so that the inverter can apply a desired gain to a high frequency input signal. The bias circuit can include an operational amplifier (op-amp) providing positive feedback control between the output and input of the inverter. By providing a reference voltage to the other input of the op-amp, the input of the inverter is regulated such that its output is driven to the reference voltage. This in turn forces the inverter to operate in its linear region, so that the inverter applies non-distorting amplification to the input AC signal. The AC signal is prevented from affecting the operation of the bias circuit by resistors coupling the bias circuit to the op-amp. | h       |\n",
      "+----------------------+--------------------------------------------------------------------------------------------------------------------------------------------------------------------------------------------------------------------------------------------------------------------------------------------------------------------------------------------------------------------------------------------------------------------------------------------------------------------------------------------------------------------------------------------------------------------------------------------------------------------------------------------------------------------------------------------------------------------------------------------------------------------------------------------------------------------------------------------------------------------------+---------+\n"
     ]
    }
   ],
   "source": [
    "# Checking Samples where we have duplicate duplicate_abstracts\n",
    "duplicate_abstracts = df[df['abstract'].duplicated(keep=False)].sort_values('abstract')\n",
    "print(tabulate(duplicate_abstracts.head(2), headers='keys', tablefmt='grid', showindex=False))"
   ]
  },
  {
   "cell_type": "markdown",
   "metadata": {},
   "source": [
    "> Although all publication numbers in the dataset are unique, we observed that some abstracts are duplicated with the same label. Keeping such entries does not add value, as they represent repeated information for the same class. Therefore, we have decided to drop these duplicate abstracts (where both the abstract text and label are identical) to ensure that each abstract-label pair is unique in our dataset."
   ]
  },
  {
   "cell_type": "code",
   "execution_count": 11,
   "metadata": {},
   "outputs": [],
   "source": [
    "# Drop duplicate abstracts, keeping the first occurrence\n",
    "df = df.drop_duplicates(subset='abstract').reset_index(drop=True)\n",
    "train_df = train_df.drop_duplicates(subset='abstract').reset_index(drop=True)\n",
    "validation_df = validation_df.drop_duplicates(subset='abstract').reset_index(drop=True)\n",
    "test_df = test_df.drop_duplicates(subset='abstract').reset_index(drop=True)"
   ]
  },
  {
   "cell_type": "code",
   "execution_count": 12,
   "metadata": {},
   "outputs": [
    {
     "name": "stdout",
     "output_type": "stream",
     "text": [
      "+--------------------+-----------------------+---------------------------------+\n",
      "| Dataset            |   Duplicate Abstracts |   Duplicate Publication Numbers |\n",
      "+====================+=======================+=================================+\n",
      "| Train Dataset      |                     0 |                               0 |\n",
      "+--------------------+-----------------------+---------------------------------+\n",
      "| Validation Dataset |                     0 |                               0 |\n",
      "+--------------------+-----------------------+---------------------------------+\n",
      "| Test Dataset       |                     0 |                               0 |\n",
      "+--------------------+-----------------------+---------------------------------+\n"
     ]
    }
   ],
   "source": [
    "# Recheck duplicates for confirmation\n",
    "def check_duplicates(data, name):\n",
    "    dup_abs = data['abstract'].duplicated().sum()\n",
    "    dup_pub = data['publication_number'].duplicated().sum()\n",
    "    return [name, dup_abs, dup_pub]\n",
    "\n",
    "results_after_dedup = [\n",
    "    check_duplicates(train_df, \"Train Dataset\"),\n",
    "    check_duplicates(validation_df, \"Validation Dataset\"),\n",
    "    check_duplicates(test_df, \"Test Dataset\")\n",
    "]\n",
    "headers = [\"Dataset\", \"Duplicate Abstracts\", \"Duplicate Publication Numbers\"]\n",
    "print(tabulate(results_after_dedup, headers=headers, tablefmt=\"grid\"))"
   ]
  },
  {
   "cell_type": "markdown",
   "metadata": {},
   "source": [
    "> **Note:** We observed that the percentage of duplicate abstracts in the dataset is very small. This minor duplication does not significantly affect the class distribution or the integrity of the dataset. Therefore, we will proceed with the existing train/validation/test split without re-splitting the data."
   ]
  },
  {
   "cell_type": "code",
   "execution_count": 13,
   "metadata": {},
   "outputs": [
    {
     "data": {
      "image/png": "[encoded data removed]",
      "text/plain": [
       "<Figure size 1400x1000 with 4 Axes>"
      ]
     },
     "metadata": {},
     "output_type": "display_data"
    }
   ],
   "source": [
    "def plot_label_percent(ax, data, title, palette=\"pastel\"):\n",
    "    total = len(data)\n",
    "    label_counts = data['label'].value_counts(normalize=True) * 100\n",
    "    order = data['label'].value_counts().index  # descending order by count\n",
    "    sns.barplot(\n",
    "        x=order,\n",
    "        y=label_counts.loc[order].values,\n",
    "        ax=ax,\n",
    "        palette=palette\n",
    "    )\n",
    "    ax.set_title(title, fontsize=14)\n",
    "    ax.set_xlabel('Label', fontsize=12)\n",
    "    ax.set_ylabel('Percentage (%)', fontsize=12)\n",
    "    ax.set_ylim(0, label_counts.max() * 1.15)\n",
    "    for i, p in enumerate(ax.patches):\n",
    "        label = f\"{p.get_height():.1f}%\"\n",
    "        ax.annotate(\n",
    "            label,\n",
    "            (p.get_x() + p.get_width() / 2, p.get_height()),\n",
    "            ha='center', va='bottom',\n",
    "            color='red',\n",
    "            fontsize=10,\n",
    "            bbox=dict(facecolor='white', edgecolor='red', boxstyle='round,pad=0.2')\n",
    "        )\n",
    "    ax.tick_params(axis='x')\n",
    "\n",
    "fig, axes = plt.subplots(2, 2, figsize=(14, 10))\n",
    "plot_label_percent(axes[0,0], df, \"Overall Dataset\", palette=\"pastel\")\n",
    "plot_label_percent(axes[0,1], train_df, \"Train Dataset\", palette=\"pastel\")\n",
    "plot_label_percent(axes[1,0], validation_df, \"Validation Dataset\", palette=\"pastel\")\n",
    "plot_label_percent(axes[1,1], test_df, \"Test Dataset\", palette=\"pastel\")\n",
    "plt.tight_layout()\n",
    "plt.show()"
   ]
  },
  {
   "cell_type": "markdown",
   "metadata": {},
   "source": [
    "> The dataset shows clear class imbalance labels g and h are most frequent, while d and e are rare and this pattern is consistent across all splits, meaning the data was split properly, and we will need to handle this imbalance during modeling to improve performance on all classes"
   ]
  },
  {
   "cell_type": "code",
   "execution_count": 14,
   "metadata": {},
   "outputs": [
    {
     "name": "stdout",
     "output_type": "stream",
     "text": [
      "Avg characters per abstract: 677\n",
      "Median characters: 648\n",
      "95th percentile (chars): 1183\n",
      "Max characters: 8408\n",
      "\n",
      "Avg tokens per abstract: 107\n",
      "Median tokens: 103\n",
      "95th percentile (tokens): 191\n",
      "Max tokens: 420\n"
     ]
    }
   ],
   "source": [
    "# Character and token length stats\n",
    "char_lengths = train_df['abstract'].str.len()\n",
    "token_lengths = train_df['abstract'].str.split().str.len()\n",
    "\n",
    "print(f\"Avg characters per abstract: {char_lengths.mean():.0f}\")\n",
    "print(f\"Median characters: {char_lengths.median():.0f}\")\n",
    "print(f\"95th percentile (chars): {char_lengths.quantile(0.95):.0f}\")\n",
    "print(f\"Max characters: {char_lengths.max()}\")\n",
    "\n",
    "print(f\"\\nAvg tokens per abstract: {token_lengths.mean():.0f}\")\n",
    "print(f\"Median tokens: {token_lengths.median():.0f}\")\n",
    "print(f\"95th percentile (tokens): {token_lengths.quantile(0.95):.0f}\")\n",
    "print(f\"Max tokens: {token_lengths.max()}\")\n",
    "\n"
   ]
  },
  {
   "cell_type": "markdown",
   "metadata": {},
   "source": [
    "> The average patent abstract in our dataset contains 677 characters and 107 tokens, with 95% of abstracts shorter than 1,183 characters and 191 tokens. The longest abstract is 8,408 characters (420 tokens), which is well within the 512-token input limit of standard BERT-based models."
   ]
  },
  {
   "cell_type": "markdown",
   "metadata": {},
   "source": [
    "### Task 1C: Random Classifier Performance (0.25 points):"
   ]
  },
  {
   "cell_type": "markdown",
   "metadata": {},
   "source": [
    "> Calculate the expected performance of a random classifier for your dataset to set a benchmark. The calculation should include an  implementation."
   ]
  },
  {
   "cell_type": "markdown",
   "metadata": {},
   "source": [
    "To evaluate the difficulty of our classification task, we implemented three random classifier strategies as baselines:\n",
    "\n",
    "- **Stratified**: Respects our class distribution by predicting labels proportionally.\n",
    "- **Uniform**: Ignores class imbalance and assume each class is equally likely.\n",
    "- **Most Frequent**: Always predicts the majority class \n",
    "\n",
    "These help assess how much better our actual models need to perform to be meaningful."
   ]
  },
  {
   "cell_type": "markdown",
   "metadata": {},
   "source": [
    "We begin by calculating the theoretical expected accuracy of a stratified random classifier using class probabilities from the training set. Then, we evaluate three dummy classifiers (stratified, uniform, most frequent) to set practical performance baselines for our multi-class classification task.\n"
   ]
  },
  {
   "cell_type": "code",
   "execution_count": 15,
   "metadata": {},
   "outputs": [
    {
     "name": "stdout",
     "output_type": "stream",
     "text": [
      "Theoretical Stratified Accuracy: 0.1532 (15.32%)\n"
     ]
    }
   ],
   "source": [
    "# Theoretical Stratified Accuracy (Prior-Based)\n",
    "label_counts = Counter(train_df['label'])\n",
    "total_samples = sum(label_counts.values())\n",
    "class_probs = np.array([count / total_samples for count in label_counts.values()])\n",
    "theoretical_accuracy = np.sum(class_probs ** 2)\n",
    "\n",
    "print(f\"Theoretical Stratified Accuracy: {theoretical_accuracy:.4f} ({theoretical_accuracy * 100:.2f}%)\")\n"
   ]
  },
  {
   "cell_type": "code",
   "execution_count": 16,
   "metadata": {},
   "outputs": [],
   "source": [
    "# Define strategies and results storage\n",
    "strategies = ['stratified', 'uniform', 'most_frequent']\n",
    "results = {}\n",
    "\n",
    "# Evaluate dummy classifiers\n",
    "for strategy in strategies:\n",
    "    clf = DummyClassifier(strategy=strategy, random_state=42)\n",
    "    clf.fit(train_df['abstract'], train_df['label'])\n",
    "    preds = clf.predict(test_df['abstract'])\n",
    "    \n",
    "    report = classification_report(test_df['label'], preds, output_dict=True, zero_division=0)\n",
    "    results[strategy] = {\n",
    "        'accuracy': report['accuracy'] * 100,\n",
    "        'precision': report['macro avg']['precision'] * 100,\n",
    "        'recall': report['macro avg']['recall'] * 100,\n",
    "        'f1': report['macro avg']['f1-score'] * 100\n",
    "    }\n"
   ]
  },
  {
   "cell_type": "code",
   "execution_count": 17,
   "metadata": {},
   "outputs": [
    {
     "name": "stdout",
     "output_type": "stream",
     "text": [
      "               accuracy  precision  recall     f1\n",
      "stratified        15.74      11.23   11.21  11.22\n",
      "uniform           11.51      11.49   11.62  10.27\n",
      "most_frequent     20.65       2.29   11.11   3.80\n"
     ]
    }
   ],
   "source": [
    "# Show results as DataFrame\n",
    "results_df = pd.DataFrame(results).T.round(2)\n",
    "print(results_df)"
   ]
  },
  {
   "cell_type": "code",
   "execution_count": 18,
   "metadata": {},
   "outputs": [
    {
     "data": {
      "image/png": "[encoded data removed]",
      "text/plain": [
       "<Figure size 1000x600 with 1 Axes>"
      ]
     },
     "metadata": {},
     "output_type": "display_data"
    }
   ],
   "source": [
    "# Plot\n",
    "ax = results_df.plot(kind='bar', figsize=(10, 6), colormap='Set2', rot=0)\n",
    "for i in ax.containers:\n",
    "    ax.bar_label(i, fmt='%.1f', label_type='edge', padding=2)\n",
    "plt.title(\"Random Classifier Performance\")\n",
    "plt.ylabel(\"Score (%)\")\n",
    "plt.xlabel(\"Strategy\")\n",
    "plt.ylim(0, results_df.values.max() + 10)\n",
    "plt.grid(axis='y', linestyle='--', alpha=0.7)\n",
    "plt.tight_layout()\n",
    "plt.show()"
   ]
  },
  {
   "cell_type": "code",
   "execution_count": 19,
   "metadata": {},
   "outputs": [
    {
     "name": "stdout",
     "output_type": "stream",
     "text": [
      "Per-Class Performance Comparison:\n",
      "======================================================================\n",
      "+---------+-----------------+--------------+----------------+-----------+\n",
      "| Class   | Stratified F1   | Uniform F1   | Most Freq F1   |   Support |\n",
      "+=========+=================+==============+================+===========+\n",
      "| a       | 15.0%           | 13.2%        | 0.0%           |      1944 |\n",
      "+---------+-----------------+--------------+----------------+-----------+\n",
      "| b       | 13.1%           | 13.5%        | 0.0%           |      1773 |\n",
      "+---------+-----------------+--------------+----------------+-----------+\n",
      "| c       | 7.5%            | 9.2%         | 0.0%           |      1075 |\n",
      "+---------+-----------------+--------------+----------------+-----------+\n",
      "| d       | 0.0%            | 1.5%         | 0.0%           |       107 |\n",
      "+---------+-----------------+--------------+----------------+-----------+\n",
      "| e       | 2.8%            | 6.0%         | 0.0%           |       406 |\n",
      "+---------+-----------------+--------------+----------------+-----------+\n",
      "| f       | 7.2%            | 8.4%         | 0.0%           |       956 |\n",
      "+---------+-----------------+--------------+----------------+-----------+\n",
      "| g       | 22.3%           | 15.6%        | 0.0%           |      2904 |\n",
      "+---------+-----------------+--------------+----------------+-----------+\n",
      "| h       | 22.1%           | 14.2%        | 34.2%          |      2757 |\n",
      "+---------+-----------------+--------------+----------------+-----------+\n",
      "| y       | 11.1%           | 11.0%        | 0.0%           |      1430 |\n",
      "+---------+-----------------+--------------+----------------+-----------+\n"
     ]
    }
   ],
   "source": [
    "# Detailed per-class analysis for all three random classifier strategies\n",
    "print(\"Per-Class Performance Comparison:\")\n",
    "print(\"=\" * 70)\n",
    "\n",
    "strategies = ['stratified', 'uniform', 'most_frequent']\n",
    "strategy_results = {}\n",
    "\n",
    "for strategy in strategies:\n",
    "    clf = DummyClassifier(strategy=strategy, random_state=42)\n",
    "    clf.fit(train_df['abstract'], train_df['label'])\n",
    "    preds = clf.predict(test_df['abstract'])\n",
    "    \n",
    "    report = classification_report(test_df['label'], preds, output_dict=True, zero_division=0)\n",
    "    strategy_results[strategy] = report\n",
    "\n",
    "# Create comprehensive comparison table\n",
    "class_comparison = []\n",
    "labels = sorted(test_df['label'].unique())\n",
    "\n",
    "for label in labels:\n",
    "    row = [label]\n",
    "    for strategy in strategies:\n",
    "        if label in strategy_results[strategy]:\n",
    "            f1 = strategy_results[strategy][label]['f1-score'] * 100\n",
    "            recall = strategy_results[strategy][label]['recall'] * 100\n",
    "            row.append(f\"{f1:.1f}%\")\n",
    "        else:\n",
    "            row.append(\"0.0%\")\n",
    "    \n",
    "    # Add support count\n",
    "    support = strategy_results['stratified'][label]['support'] if label in strategy_results['stratified'] else 0\n",
    "    row.append(support)\n",
    "    class_comparison.append(row)\n",
    "\n",
    "headers = [\"Class\", \"Stratified F1\", \"Uniform F1\", \"Most Freq F1\", \"Support\"]\n",
    "print(tabulate(class_comparison, headers=headers, tablefmt=\"grid\"))\n"
   ]
  },
  {
   "cell_type": "code",
   "execution_count": 20,
   "metadata": {},
   "outputs": [
    {
     "name": "stdout",
     "output_type": "stream",
     "text": [
      "\n",
      "Overall Performance Summary:\n",
      "----------------------------------------\n",
      "  Stratified: 15.7% accuracy, 11.2% macro F1\n",
      "     Uniform: 11.5% accuracy, 10.3% macro F1\n",
      "Most_frequent: 20.6% accuracy, 3.8% macro F1\n"
     ]
    }
   ],
   "source": [
    "# Show overall metrics\n",
    "print(\"\\nOverall Performance Summary:\")\n",
    "print(\"-\" * 40)\n",
    "for strategy in strategies:\n",
    "    acc = strategy_results[strategy]['accuracy'] * 100\n",
    "    macro_f1 = strategy_results[strategy]['macro avg']['f1-score'] * 100\n",
    "    print(f\"{strategy.capitalize():>12}: {acc:.1f}% accuracy, {macro_f1:.1f}% macro F1\")"
   ]
  },
  {
   "cell_type": "markdown",
   "metadata": {},
   "source": [
    "• Most Frequent strategy shows 0% F1 for all classes except the majority class\n",
    "\n",
    "• Stratified and Uniform show similar F1 scores but stratified respects class distribution\n",
    "\n",
    "• Rare classes (d, e) have consistently low performance across all strategies"
   ]
  },
  {
   "cell_type": "markdown",
   "metadata": {},
   "source": [
    "Our random classifier reveals the inherent difficulty of the BigPatent classification task due to severe class imbalance.\n",
    "\n",
    "The stratified random classifier achieves 15.74% accuracy (closely matching theoretical 15.32%), which respects class distributions and provides the most realistic baseline.\n",
    "\n",
    "The uniform classifier performs worse at 11.51% because it ignores that frequent classes (g, h) appear ~25x more than rare classes (d, e), demonstrating how imbalance affects random performance.\n",
    "\n",
    "The most frequent classifier achieves higher overall accuracy (20.65%) by always predicting the majority class, but this results in 0% recall for minority classes, making it useless for practical applications.\n",
    "\n",
    "These results indicate our task is moderately challenging - random guessing succeeds ~1 in 6 times - and that minority classes (d, e) will be particularly difficult for any model due to their extreme rarity (<1-3% of data)."
   ]
  },
  {
   "cell_type": "markdown",
   "metadata": {},
   "source": [
    "### Task 1D: Baseline Implementation (0.5 points):\n",
    "\n",
    "> Develop a rule-based classifier as a baseline. Discuss its performance in the context of the dataset's complexity and compare it with human-level performance if available."
   ]
  },
  {
   "cell_type": "markdown",
   "metadata": {},
   "source": [
    "> Created a true rule-based classifier using domain knowledge. This approach relies on explicit IF-THEN rules, and to support keyword selection, we used ChatGPT to identify domain-relevant terms associated with each CPC class."
   ]
  },
  {
   "cell_type": "code",
   "execution_count": 21,
   "metadata": {},
   "outputs": [
    {
     "name": "stdout",
     "output_type": "stream",
     "text": [
      "CPC Class Definitions for Rule-Based Classification:\n",
      "============================================================\n",
      "Class a: Human Necessities\n",
      "  Keywords: food, agriculture, medical, drug, patient, treatment, game, furniture...\n",
      "\n",
      "Class b: Performing Operations; Transporting\n",
      "  Keywords: cutting, blade, printing, transport, vehicle, conveyor, manufacturing, processing...\n",
      "\n",
      "Class c: Chemistry; Metallurgy\n",
      "  Keywords: chemical, compound, reaction, catalyst, polymer, metal, alloy, composition...\n",
      "\n",
      "Class d: Textiles; Paper\n",
      "  Keywords: textile, fiber, fabric, yarn, paper, pulp, thread, weaving...\n",
      "\n",
      "Class e: Fixed Constructions\n",
      "  Keywords: building, construction, structure, foundation, wall, roof, concrete, steel...\n",
      "\n",
      "Class f: Mechanical Engineering\n",
      "  Keywords: engine, motor, mechanical, heating, cooling, pump, valve, gear...\n",
      "\n",
      "Class g: Physics\n",
      "  Keywords: optical, lens, measurement, sensor, instrument, physics, radiation, laser...\n",
      "\n",
      "Class h: Electricity\n",
      "  Keywords: electrical, electronic, circuit, voltage, current, power, semiconductor, transistor...\n",
      "\n",
      "Class y: General Tagging\n",
      "  Keywords: new, emerging, technology, cross, general, novel, innovative, advanced...\n",
      "\n"
     ]
    }
   ],
   "source": [
    "# defining what each CPC class represents\n",
    "\n",
    "CPC_DEFINITIONS = {\n",
    "    'a': {\n",
    "        'name': 'Human Necessities',\n",
    "        'domains': ['food', 'agriculture', 'medical', 'furniture', 'games'],\n",
    "        'keywords': ['food', 'agriculture', 'medical', 'drug', 'patient', 'treatment', 'game', \n",
    "                    'furniture', 'chair', 'table', 'cooking', 'nutrition', 'health']\n",
    "    },\n",
    "    'b': {\n",
    "        'name': 'Performing Operations; Transporting', \n",
    "        'domains': ['cutting', 'shaping', 'printing', 'transport'],\n",
    "        'keywords': ['cutting', 'blade', 'printing', 'transport', 'vehicle', 'conveyor',\n",
    "                    'manufacturing', 'processing', 'operation', 'machine', 'tool']\n",
    "    },\n",
    "    'c': {\n",
    "        'name': 'Chemistry; Metallurgy',\n",
    "        'domains': ['chemistry', 'materials', 'metallurgy'],\n",
    "        'keywords': ['chemical', 'compound', 'reaction', 'catalyst', 'polymer', 'metal',\n",
    "                    'alloy', 'composition', 'solution', 'synthesis', 'organic', 'inorganic']\n",
    "    },\n",
    "    'd': {\n",
    "        'name': 'Textiles; Paper',\n",
    "        'domains': ['textiles', 'fibers', 'paper'],\n",
    "        'keywords': ['textile', 'fiber', 'fabric', 'yarn', 'paper', 'pulp', 'thread',\n",
    "                    'weaving', 'spinning', 'cloth', 'cotton', 'wool']\n",
    "    },\n",
    "    'e': {\n",
    "        'name': 'Fixed Constructions',\n",
    "        'domains': ['buildings', 'construction', 'structures'],\n",
    "        'keywords': ['building', 'construction', 'structure', 'foundation', 'wall',\n",
    "                    'roof', 'concrete', 'steel', 'bridge', 'tunnel', 'architectural']\n",
    "    },\n",
    "    'f': {\n",
    "        'name': 'Mechanical Engineering',\n",
    "        'domains': ['engines', 'machines', 'lighting', 'heating'],\n",
    "        'keywords': ['engine', 'motor', 'mechanical', 'heating', 'cooling', 'pump',\n",
    "                    'valve', 'gear', 'bearing', 'combustion', 'lighting', 'lamp']\n",
    "    },\n",
    "    'g': {\n",
    "        'name': 'Physics',\n",
    "        'domains': ['instruments', 'optics', 'photography', 'measuring'],\n",
    "        'keywords': ['optical', 'lens', 'measurement', 'sensor', 'instrument', 'physics',\n",
    "                    'radiation', 'laser', 'detector', 'signal', 'frequency', 'wave']\n",
    "    },\n",
    "    'h': {\n",
    "        'name': 'Electricity',\n",
    "        'domains': ['electrical', 'electronics', 'computing'],\n",
    "        'keywords': ['electrical', 'electronic', 'circuit', 'voltage', 'current', 'power',\n",
    "                    'semiconductor', 'transistor', 'computer', 'digital', 'antenna', 'cable']\n",
    "    },\n",
    "    'y': {\n",
    "        'name': 'General Tagging',\n",
    "        'domains': ['cross-sectional', 'emerging'],\n",
    "        'keywords': ['new', 'emerging', 'technology', 'cross', 'general', 'novel',\n",
    "                    'innovative', 'advanced', 'improved', 'enhanced']\n",
    "    }\n",
    "}\n",
    "\n",
    "print(\"CPC Class Definitions for Rule-Based Classification:\")\n",
    "print(\"=\" * 60)\n",
    "for code, info in CPC_DEFINITIONS.items():\n",
    "    print(f\"Class {code}: {info['name']}\")\n",
    "    print(f\"  Keywords: {', '.join(info['keywords'][:8])}...\")\n",
    "    print()"
   ]
  },
  {
   "cell_type": "markdown",
   "metadata": {},
   "source": [
    "Defining the core logic for our rule-based classifier. This class uses:\n",
    "\n",
    "- Domain-specific keyword matching (from CPC definitions) (above cell)\n",
    "- Explicit IF-THEN rules for strong domain signals\n",
    "- Weighted scoring based on keyword specificity\n",
    "- Fallback logic to assign a default label when no match is found"
   ]
  },
  {
   "cell_type": "code",
   "execution_count": 22,
   "metadata": {},
   "outputs": [],
   "source": [
    "# Implementing Rule-Based Classifier with Explicit Logic\n",
    "class PatentRuleBasedClassifier:\n",
    "    def __init__(self):\n",
    "        self.class_definitions = CPC_DEFINITIONS\n",
    "        self.fallback_order = ['h', 'g', 'a', 'b', 'y', 'c', 'f', 'e', 'd']  \n",
    "\n",
    "    def preprocess_text(self, text):\n",
    "        \"\"\"Clean and normalize text for rule matching\"\"\"\n",
    "        text = text.lower()\n",
    "        # Removing special characters but keep spaces\n",
    "        text = re.sub(r'[^\\w\\s]', ' ', text)\n",
    "        # Removing extra whitespace\n",
    "        text = re.sub(r'\\s+', ' ', text).strip()\n",
    "        return text\n",
    "    \n",
    "    def calculate_class_scores(self, text):\n",
    "        \"\"\"Calculate scores for each class based on keyword matches\"\"\"\n",
    "        text = self.preprocess_text(text)\n",
    "        scores = defaultdict(float)\n",
    "        \n",
    "        for class_code, definition in self.class_definitions.items():\n",
    "            keywords = definition['keywords']\n",
    "            \n",
    "            # Counting the keyword matches with word boundaries\n",
    "            for keyword in keywords:\n",
    "                pattern = r'\\b' + re.escape(keyword) + r'\\b'\n",
    "                matches = len(re.findall(pattern, text))\n",
    "                if matches > 0:\n",
    "                    # Weight by keyword specificity (longer keywords getting higher weight)\n",
    "                    weight = len(keyword) / 10.0 + 1.0\n",
    "                    scores[class_code] += matches * weight\n",
    "        \n",
    "        return scores\n",
    "    \n",
    "    def apply_domain_rules(self, text, scores):\n",
    "        \"\"\"Apply explicit domain-specific rules\"\"\"\n",
    "        text = self.preprocess_text(text)\n",
    "        \n",
    "        # Rule 1: Strong electrical indicators\n",
    "        electrical_patterns = [\n",
    "            r'\\b(electronic|electrical|circuit|voltage|current|semiconductor)\\b',\n",
    "            r'\\b(transistor|amplifier|processor|microprocessor|cpu)\\b',\n",
    "            r'\\b(digital|analog|signal processing|communication)\\b'\n",
    "        ]\n",
    "        for pattern in electrical_patterns:\n",
    "            if re.search(pattern, text):\n",
    "                scores['h'] += 3.0\n",
    "        \n",
    "        # Rule 2: Strong chemistry indicators  \n",
    "        chemistry_patterns = [\n",
    "            r'\\b(chemical|compound|molecule|reaction|catalyst)\\b',\n",
    "            r'\\b(polymer|synthesis|organic|inorganic|composition)\\b',\n",
    "            r'\\b(acid|base|solution|mixture|alloy)\\b'\n",
    "        ]\n",
    "        for pattern in chemistry_patterns:\n",
    "            if re.search(pattern, text):\n",
    "                scores['c'] += 3.0\n",
    "        \n",
    "        # Rule 3: Medical/pharmaceutical (class a)\n",
    "        medical_patterns = [\n",
    "            r'\\b(medical|pharmaceutical|drug|medicine|treatment)\\b',\n",
    "            r'\\b(patient|therapy|diagnostic|clinical|biological)\\b',\n",
    "            r'\\b(disease|infection|cancer|protein|gene)\\b'\n",
    "        ]\n",
    "        for pattern in medical_patterns:\n",
    "            if re.search(pattern, text):\n",
    "                scores['a'] += 3.0\n",
    "        \n",
    "        # Rule 4: Mechanical systems (class f)\n",
    "        mechanical_patterns = [\n",
    "            r'\\b(engine|motor|mechanical|machine|pump)\\b',\n",
    "            r'\\b(valve|gear|bearing|shaft|piston)\\b',\n",
    "            r'\\b(heating|cooling|combustion|thermal)\\b'\n",
    "        ]\n",
    "        for pattern in mechanical_patterns:\n",
    "            if re.search(pattern, text):\n",
    "                scores['f'] += 3.0\n",
    "        \n",
    "        # Rule 5: Optical/physics (class g)\n",
    "        physics_patterns = [\n",
    "            r'\\b(optical|lens|laser|radiation|frequency)\\b',\n",
    "            r'\\b(sensor|detector|measurement|instrument|physics)\\b',\n",
    "            r'\\b(wave|spectrum|imaging|microscope)\\b'\n",
    "        ]\n",
    "        for pattern in physics_patterns:\n",
    "            if re.search(pattern, text):\n",
    "                scores['g'] += 3.0\n",
    "        \n",
    "        return scores\n",
    "    \n",
    "    def classify(self, abstract):\n",
    "        \"\"\"Main classification method using explicit rules\"\"\"\n",
    "        #  Calculating keyword-based scores\n",
    "        scores = self.calculate_class_scores(abstract)\n",
    "        \n",
    "        # Applying domain-specific rules\n",
    "        scores = self.apply_domain_rules(abstract, scores)\n",
    "        \n",
    "        # Handling edge cases\n",
    "        if not scores or max(scores.values()) == 0:\n",
    "            # If no matches, return most frequent class from training data\n",
    "            return 'h'  # Most frequent class\n",
    "        \n",
    "        # Return class with highest score\n",
    "        return max(scores, key=scores.get)\n",
    "\n",
    "# Initialize the rule-based classifier\n",
    "rule_classifier = PatentRuleBasedClassifier()"
   ]
  },
  {
   "cell_type": "code",
   "execution_count": 23,
   "metadata": {},
   "outputs": [
    {
     "name": "stdout",
     "output_type": "stream",
     "text": [
      "Accuracy: 32.27%\n",
      "Macro F1: 28.09%\n",
      "Weighted F1: 30.06%\n",
      "\n",
      "Improvement over Stratified Random: +16.53 percentage points\n",
      "Improvement over Most Frequent: +11.62 percentage points\n"
     ]
    }
   ],
   "source": [
    "# Testing Rule-Based Classifier Performance and applying classifier to test set\n",
    "rule_based_predictions = [rule_classifier.classify(abstract) for abstract in test_df['abstract']]\n",
    "rule_based_accuracy = accuracy_score(test_df['label'], rule_based_predictions)\n",
    "rule_based_report = classification_report(test_df['label'], rule_based_predictions, output_dict=True)\n",
    "\n",
    "print(f\"Accuracy: {rule_based_accuracy*100:.2f}%\")\n",
    "print(f\"Macro F1: {rule_based_report['macro avg']['f1-score']*100:.2f}%\")\n",
    "print(f\"Weighted F1: {rule_based_report['weighted avg']['f1-score']*100:.2f}%\")\n",
    "\n",
    "# Comparing with random baselines\n",
    "print(f\"\\nImprovement over Stratified Random: +{(rule_based_accuracy - 0.1574)*100:.2f} percentage points\")\n",
    "print(f\"Improvement over Most Frequent: {(rule_based_accuracy - 0.2065)*100:+.2f} percentage points\")"
   ]
  },
  {
   "cell_type": "markdown",
   "metadata": {},
   "source": [
    "To check how the rule-based classifier performs across different CPC classes, we checked per-class performance "
   ]
  },
  {
   "cell_type": "code",
   "execution_count": 24,
   "metadata": {},
   "outputs": [
    {
     "name": "stdout",
     "output_type": "stream",
     "text": [
      "Per-Class Performance Analysis:\n",
      "+---------+-------------------------+-------------+----------+------------+-----------+\n",
      "| Class   | Domain                  | Precision   | Recall   | F1-Score   |   Support |\n",
      "+=========+=========================+=============+==========+============+===========+\n",
      "| a       | Human Necessities...    | 50.4%       | 20.9%    | 29.6%      |      1944 |\n",
      "+---------+-------------------------+-------------+----------+------------+-----------+\n",
      "| b       | Performing Operation... | 28.8%       | 19.5%    | 23.3%      |      1773 |\n",
      "+---------+-------------------------+-------------+----------+------------+-----------+\n",
      "| c       | Chemistry; Metallurg... | 33.1%       | 49.0%    | 39.5%      |      1075 |\n",
      "+---------+-------------------------+-------------+----------+------------+-----------+\n",
      "| d       | Textiles; Paper...      | 20.5%       | 36.4%    | 26.3%      |       107 |\n",
      "+---------+-------------------------+-------------+----------+------------+-----------+\n",
      "| e       | Fixed Constructions...  | 16.4%       | 23.9%    | 19.4%      |       406 |\n",
      "+---------+-------------------------+-------------+----------+------------+-----------+\n",
      "| f       | Mechanical Engineeri... | 27.7%       | 47.1%    | 34.9%      |       956 |\n",
      "+---------+-------------------------+-------------+----------+------------+-----------+\n",
      "| g       | Physics...              | 42.4%       | 25.1%    | 31.5%      |      2904 |\n",
      "+---------+-------------------------+-------------+----------+------------+-----------+\n",
      "| h       | Electricity...          | 32.0%       | 59.9%    | 41.8%      |      2757 |\n",
      "+---------+-------------------------+-------------+----------+------------+-----------+\n",
      "| y       | General Tagging...      | 13.3%       | 4.4%     | 6.6%       |      1430 |\n",
      "+---------+-------------------------+-------------+----------+------------+-----------+\n"
     ]
    }
   ],
   "source": [
    "# Per-Class Performance Analysis\n",
    "print(\"Per-Class Performance Analysis:\")\n",
    "\n",
    "# Creating detailed per-class comparison table\n",
    "class_performance = []\n",
    "labels = sorted(test_df['label'].unique())\n",
    "\n",
    "for label in labels:\n",
    "    if label in rule_based_report:\n",
    "        class_performance.append([\n",
    "            label,\n",
    "            CPC_DEFINITIONS[label]['name'][:20] + \"...\",\n",
    "            f\"{rule_based_report[label]['precision']*100:.1f}%\",\n",
    "            f\"{rule_based_report[label]['recall']*100:.1f}%\",\n",
    "            f\"{rule_based_report[label]['f1-score']*100:.1f}%\",\n",
    "            int(rule_based_report[label]['support'])\n",
    "        ])\n",
    "\n",
    "headers = [\"Class\", \"Domain\", \"Precision\", \"Recall\", \"F1-Score\", \"Support\"]\n",
    "print(tabulate(class_performance, headers=headers, tablefmt=\"grid\"))"
   ]
  },
  {
   "cell_type": "code",
   "execution_count": 25,
   "metadata": {},
   "outputs": [
    {
     "data": {
      "image/png": "[encoded data removed]",
      "text/plain": [
       "<Figure size 800x600 with 2 Axes>"
      ]
     },
     "metadata": {},
     "output_type": "display_data"
    }
   ],
   "source": [
    "# confusion matrix\n",
    "cm = confusion_matrix(test_df['label'], rule_based_predictions, labels=sorted(test_df['label'].unique()))\n",
    "disp = ConfusionMatrixDisplay(confusion_matrix=cm, display_labels=sorted(CPC_DEFINITIONS.keys()))\n",
    "fig, ax = plt.subplots(figsize=(8, 6))\n",
    "disp.plot(ax=ax, cmap=\"Blues\")\n",
    "plt.title(\"Confusion Matrix: Rule-Based Classifier\")\n",
    "plt.grid(False)\n",
    "plt.tight_layout()\n",
    "plt.show()\n",
    "\n"
   ]
  },
  {
   "cell_type": "markdown",
   "metadata": {},
   "source": [
    "\n",
    "> The **rule-based classifier** achieved **32.27% accuracy**, a **macro F1-score of 28.09%**, and **weighted F1-score of 30.06%** on the test set — **significantly outperforming all random baselines** (*Stratified*: **15.74%**, *Most Frequent*: **20.65%**).\n",
    ">\n",
    "> It performed best on technically distinct classes such as **'h' (Electricity, F1 = 41.8%)** and **'c' (Chemistry, F1 = 39.5%)**, but struggled on more abstract or overlapping categories like **'y' (General Tagging, F1 = 6.6%)** and rare classes such as **'e'** and **'d'**. This reflects the limitations of rule-based approaches in handling nuanced or sparse data.\n",
    "\n",
    ">The **confusion matrix** also shows frequent misclassification into dominant classes like **'h'**, **'g'**, or **'y'**, revealing fallback behavior and lack of semantic generalization.\n",
    ">\n",
    "> These results establish an **interpretable baseline** and clearly explain the need for machine learning models to capture deeper linguistic patterns and generalize better across classes.\n"
   ]
  },
  {
   "cell_type": "code",
   "execution_count": 26,
   "metadata": {},
   "outputs": [
    {
     "name": "stdout",
     "output_type": "stream",
     "text": [
      "+---------+------+------+-------+------+\n",
      "| Class   |   TP |   FP |    TN |   FN |\n",
      "+=========+======+======+=======+======+\n",
      "| a       |  407 |  401 | 11007 | 1537 |\n",
      "+---------+------+------+-------+------+\n",
      "| b       |  346 |  854 | 10725 | 1427 |\n",
      "+---------+------+------+-------+------+\n",
      "| c       |  527 | 1063 | 11214 |  548 |\n",
      "+---------+------+------+-------+------+\n",
      "| d       |   39 |  151 | 13094 |   68 |\n",
      "+---------+------+------+-------+------+\n",
      "| e       |   97 |  496 | 12450 |  309 |\n",
      "+---------+------+------+-------+------+\n",
      "| f       |  450 | 1175 | 11221 |  506 |\n",
      "+---------+------+------+-------+------+\n",
      "| g       |  728 |  991 |  9457 | 2176 |\n",
      "+---------+------+------+-------+------+\n",
      "| h       | 1652 | 3503 |  7092 | 1105 |\n",
      "+---------+------+------+-------+------+\n",
      "| y       |   63 |  409 | 11513 | 1367 |\n",
      "+---------+------+------+-------+------+\n"
     ]
    }
   ],
   "source": [
    "# Calculating TP, FP, TN, FN for each class for the rule-based classifier on the test set\n",
    "y_true = test_df['label']\n",
    "y_pred = rule_based_predictions\n",
    "all_classes = sorted(CPC_DEFINITIONS.keys())\n",
    "mcm = multilabel_confusion_matrix(y_true, y_pred, labels=all_classes)\n",
    "\n",
    "# Collecting TP, FP, TN, FN for each class\n",
    "tp_fp_tn_fn = []\n",
    "for idx, class_label in enumerate(all_classes):\n",
    "    tn, fp, fn, tp = mcm[idx].ravel()\n",
    "    tp_fp_tn_fn.append([class_label, int(tp), int(fp), int(tn), int(fn)])\n",
    "print(tabulate(tp_fp_tn_fn, headers=['Class', 'TP', 'FP', 'TN', 'FN'], tablefmt='grid'))"
   ]
  },
  {
   "cell_type": "markdown",
   "metadata": {},
   "source": [
    ">The rule-based classifier achieves high true positives for clear technical classes like Electricity ('h', TP = 1652) and Chemistry ('c', TP = 527), but also generates many false positives—especially for 'h' (FP = 3503)—indicating that electrical keywords are frequently overmatched across classes.\n",
    "\n",
    ">Rare classes such as 'd' and 'e' have very low true positives (TP = 39 and 97, respectively), highlighting the difficulty in detecting underrepresented or overlapping categories. Overall, the model tends to over-predict frequent or generic classes, while struggling with both precision and recall on minority labels. This emphasizes the need for more flexible machine learning models that can better understand context and reduce both false positives and false negatives."
   ]
  },
  {
   "cell_type": "markdown",
   "metadata": {},
   "source": [
    "### TF-IDF + Logistic Regression Statistical Baseline"
   ]
  },
  {
   "cell_type": "code",
   "execution_count": 27,
   "metadata": {},
   "outputs": [
    {
     "data": {
      "text/html": [
       "<style>#sk-container-id-1 {\n",
       "  /* Definition of color scheme common for light and dark mode */\n",
       "  --sklearn-color-text: #000;\n",
       "  --sklearn-color-text-muted: #666;\n",
       "  --sklearn-color-line: gray;\n",
       "  /* Definition of color scheme for unfitted estimators */\n",
       "  --sklearn-color-unfitted-level-0: #fff5e6;\n",
       "  --sklearn-color-unfitted-level-1: #f6e4d2;\n",
       "  --sklearn-color-unfitted-level-2: #ffe0b3;\n",
       "  --sklearn-color-unfitted-level-3: chocolate;\n",
       "  /* Definition of color scheme for fitted estimators */\n",
       "  --sklearn-color-fitted-level-0: #f0f8ff;\n",
       "  --sklearn-color-fitted-level-1: #d4ebff;\n",
       "  --sklearn-color-fitted-level-2: #b3dbfd;\n",
       "  --sklearn-color-fitted-level-3: cornflowerblue;\n",
       "\n",
       "  /* Specific color for light theme */\n",
       "  --sklearn-color-text-on-default-background: var(--sg-text-color, var(--theme-code-foreground, var(--jp-content-font-color1, black)));\n",
       "  --sklearn-color-background: var(--sg-background-color, var(--theme-background, var(--jp-layout-color0, white)));\n",
       "  --sklearn-color-border-box: var(--sg-text-color, var(--theme-code-foreground, var(--jp-content-font-color1, black)));\n",
       "  --sklearn-color-icon: #696969;\n",
       "\n",
       "  @media (prefers-color-scheme: dark) {\n",
       "    /* Redefinition of color scheme for dark theme */\n",
       "    --sklearn-color-text-on-default-background: var(--sg-text-color, var(--theme-code-foreground, var(--jp-content-font-color1, white)));\n",
       "    --sklearn-color-background: var(--sg-background-color, var(--theme-background, var(--jp-layout-color0, #111)));\n",
       "    --sklearn-color-border-box: var(--sg-text-color, var(--theme-code-foreground, var(--jp-content-font-color1, white)));\n",
       "    --sklearn-color-icon: #878787;\n",
       "  }\n",
       "}\n",
       "\n",
       "#sk-container-id-1 {\n",
       "  color: var(--sklearn-color-text);\n",
       "}\n",
       "\n",
       "#sk-container-id-1 pre {\n",
       "  padding: 0;\n",
       "}\n",
       "\n",
       "#sk-container-id-1 input.sk-hidden--visually {\n",
       "  border: 0;\n",
       "  clip: rect(1px 1px 1px 1px);\n",
       "  clip: rect(1px, 1px, 1px, 1px);\n",
       "  height: 1px;\n",
       "  margin: -1px;\n",
       "  overflow: hidden;\n",
       "  padding: 0;\n",
       "  position: absolute;\n",
       "  width: 1px;\n",
       "}\n",
       "\n",
       "#sk-container-id-1 div.sk-dashed-wrapped {\n",
       "  border: 1px dashed var(--sklearn-color-line);\n",
       "  margin: 0 0.4em 0.5em 0.4em;\n",
       "  box-sizing: border-box;\n",
       "  padding-bottom: 0.4em;\n",
       "  background-color: var(--sklearn-color-background);\n",
       "}\n",
       "\n",
       "#sk-container-id-1 div.sk-container {\n",
       "  /* jupyter's `normalize.less` sets `[hidden] { display: none; }`\n",
       "     but bootstrap.min.css set `[hidden] { display: none !important; }`\n",
       "     so we also need the `!important` here to be able to override the\n",
       "     default hidden behavior on the sphinx rendered scikit-learn.org.\n",
       "     See: https://github.com/scikit-learn/scikit-learn/issues/21755 */\n",
       "  display: inline-block !important;\n",
       "  position: relative;\n",
       "}\n",
       "\n",
       "#sk-container-id-1 div.sk-text-repr-fallback {\n",
       "  display: none;\n",
       "}\n",
       "\n",
       "div.sk-parallel-item,\n",
       "div.sk-serial,\n",
       "div.sk-item {\n",
       "  /* draw centered vertical line to link estimators */\n",
       "  background-image: linear-gradient(var(--sklearn-color-text-on-default-background), var(--sklearn-color-text-on-default-background));\n",
       "  background-size: 2px 100%;\n",
       "  background-repeat: no-repeat;\n",
       "  background-position: center center;\n",
       "}\n",
       "\n",
       "/* Parallel-specific style estimator block */\n",
       "\n",
       "#sk-container-id-1 div.sk-parallel-item::after {\n",
       "  content: \"\";\n",
       "  width: 100%;\n",
       "  border-bottom: 2px solid var(--sklearn-color-text-on-default-background);\n",
       "  flex-grow: 1;\n",
       "}\n",
       "\n",
       "#sk-container-id-1 div.sk-parallel {\n",
       "  display: flex;\n",
       "  align-items: stretch;\n",
       "  justify-content: center;\n",
       "  background-color: var(--sklearn-color-background);\n",
       "  position: relative;\n",
       "}\n",
       "\n",
       "#sk-container-id-1 div.sk-parallel-item {\n",
       "  display: flex;\n",
       "  flex-direction: column;\n",
       "}\n",
       "\n",
       "#sk-container-id-1 div.sk-parallel-item:first-child::after {\n",
       "  align-self: flex-end;\n",
       "  width: 50%;\n",
       "}\n",
       "\n",
       "#sk-container-id-1 div.sk-parallel-item:last-child::after {\n",
       "  align-self: flex-start;\n",
       "  width: 50%;\n",
       "}\n",
       "\n",
       "#sk-container-id-1 div.sk-parallel-item:only-child::after {\n",
       "  width: 0;\n",
       "}\n",
       "\n",
       "/* Serial-specific style estimator block */\n",
       "\n",
       "#sk-container-id-1 div.sk-serial {\n",
       "  display: flex;\n",
       "  flex-direction: column;\n",
       "  align-items: center;\n",
       "  background-color: var(--sklearn-color-background);\n",
       "  padding-right: 1em;\n",
       "  padding-left: 1em;\n",
       "}\n",
       "\n",
       "\n",
       "/* Toggleable style: style used for estimator/Pipeline/ColumnTransformer box that is\n",
       "clickable and can be expanded/collapsed.\n",
       "- Pipeline and ColumnTransformer use this feature and define the default style\n",
       "- Estimators will overwrite some part of the style using the `sk-estimator` class\n",
       "*/\n",
       "\n",
       "/* Pipeline and ColumnTransformer style (default) */\n",
       "\n",
       "#sk-container-id-1 div.sk-toggleable {\n",
       "  /* Default theme specific background. It is overwritten whether we have a\n",
       "  specific estimator or a Pipeline/ColumnTransformer */\n",
       "  background-color: var(--sklearn-color-background);\n",
       "}\n",
       "\n",
       "/* Toggleable label */\n",
       "#sk-container-id-1 label.sk-toggleable__label {\n",
       "  cursor: pointer;\n",
       "  display: flex;\n",
       "  width: 100%;\n",
       "  margin-bottom: 0;\n",
       "  padding: 0.5em;\n",
       "  box-sizing: border-box;\n",
       "  text-align: center;\n",
       "  align-items: start;\n",
       "  justify-content: space-between;\n",
       "  gap: 0.5em;\n",
       "}\n",
       "\n",
       "#sk-container-id-1 label.sk-toggleable__label .caption {\n",
       "  font-size: 0.6rem;\n",
       "  font-weight: lighter;\n",
       "  color: var(--sklearn-color-text-muted);\n",
       "}\n",
       "\n",
       "#sk-container-id-1 label.sk-toggleable__label-arrow:before {\n",
       "  /* Arrow on the left of the label */\n",
       "  content: \"▸\";\n",
       "  float: left;\n",
       "  margin-right: 0.25em;\n",
       "  color: var(--sklearn-color-icon);\n",
       "}\n",
       "\n",
       "#sk-container-id-1 label.sk-toggleable__label-arrow:hover:before {\n",
       "  color: var(--sklearn-color-text);\n",
       "}\n",
       "\n",
       "/* Toggleable content - dropdown */\n",
       "\n",
       "#sk-container-id-1 div.sk-toggleable__content {\n",
       "  max-height: 0;\n",
       "  max-width: 0;\n",
       "  overflow: hidden;\n",
       "  text-align: left;\n",
       "  /* unfitted */\n",
       "  background-color: var(--sklearn-color-unfitted-level-0);\n",
       "}\n",
       "\n",
       "#sk-container-id-1 div.sk-toggleable__content.fitted {\n",
       "  /* fitted */\n",
       "  background-color: var(--sklearn-color-fitted-level-0);\n",
       "}\n",
       "\n",
       "#sk-container-id-1 div.sk-toggleable__content pre {\n",
       "  margin: 0.2em;\n",
       "  border-radius: 0.25em;\n",
       "  color: var(--sklearn-color-text);\n",
       "  /* unfitted */\n",
       "  background-color: var(--sklearn-color-unfitted-level-0);\n",
       "}\n",
       "\n",
       "#sk-container-id-1 div.sk-toggleable__content.fitted pre {\n",
       "  /* unfitted */\n",
       "  background-color: var(--sklearn-color-fitted-level-0);\n",
       "}\n",
       "\n",
       "#sk-container-id-1 input.sk-toggleable__control:checked~div.sk-toggleable__content {\n",
       "  /* Expand drop-down */\n",
       "  max-height: 200px;\n",
       "  max-width: 100%;\n",
       "  overflow: auto;\n",
       "}\n",
       "\n",
       "#sk-container-id-1 input.sk-toggleable__control:checked~label.sk-toggleable__label-arrow:before {\n",
       "  content: \"▾\";\n",
       "}\n",
       "\n",
       "/* Pipeline/ColumnTransformer-specific style */\n",
       "\n",
       "#sk-container-id-1 div.sk-label input.sk-toggleable__control:checked~label.sk-toggleable__label {\n",
       "  color: var(--sklearn-color-text);\n",
       "  background-color: var(--sklearn-color-unfitted-level-2);\n",
       "}\n",
       "\n",
       "#sk-container-id-1 div.sk-label.fitted input.sk-toggleable__control:checked~label.sk-toggleable__label {\n",
       "  background-color: var(--sklearn-color-fitted-level-2);\n",
       "}\n",
       "\n",
       "/* Estimator-specific style */\n",
       "\n",
       "/* Colorize estimator box */\n",
       "#sk-container-id-1 div.sk-estimator input.sk-toggleable__control:checked~label.sk-toggleable__label {\n",
       "  /* unfitted */\n",
       "  background-color: var(--sklearn-color-unfitted-level-2);\n",
       "}\n",
       "\n",
       "#sk-container-id-1 div.sk-estimator.fitted input.sk-toggleable__control:checked~label.sk-toggleable__label {\n",
       "  /* fitted */\n",
       "  background-color: var(--sklearn-color-fitted-level-2);\n",
       "}\n",
       "\n",
       "#sk-container-id-1 div.sk-label label.sk-toggleable__label,\n",
       "#sk-container-id-1 div.sk-label label {\n",
       "  /* The background is the default theme color */\n",
       "  color: var(--sklearn-color-text-on-default-background);\n",
       "}\n",
       "\n",
       "/* On hover, darken the color of the background */\n",
       "#sk-container-id-1 div.sk-label:hover label.sk-toggleable__label {\n",
       "  color: var(--sklearn-color-text);\n",
       "  background-color: var(--sklearn-color-unfitted-level-2);\n",
       "}\n",
       "\n",
       "/* Label box, darken color on hover, fitted */\n",
       "#sk-container-id-1 div.sk-label.fitted:hover label.sk-toggleable__label.fitted {\n",
       "  color: var(--sklearn-color-text);\n",
       "  background-color: var(--sklearn-color-fitted-level-2);\n",
       "}\n",
       "\n",
       "/* Estimator label */\n",
       "\n",
       "#sk-container-id-1 div.sk-label label {\n",
       "  font-family: monospace;\n",
       "  font-weight: bold;\n",
       "  display: inline-block;\n",
       "  line-height: 1.2em;\n",
       "}\n",
       "\n",
       "#sk-container-id-1 div.sk-label-container {\n",
       "  text-align: center;\n",
       "}\n",
       "\n",
       "/* Estimator-specific */\n",
       "#sk-container-id-1 div.sk-estimator {\n",
       "  font-family: monospace;\n",
       "  border: 1px dotted var(--sklearn-color-border-box);\n",
       "  border-radius: 0.25em;\n",
       "  box-sizing: border-box;\n",
       "  margin-bottom: 0.5em;\n",
       "  /* unfitted */\n",
       "  background-color: var(--sklearn-color-unfitted-level-0);\n",
       "}\n",
       "\n",
       "#sk-container-id-1 div.sk-estimator.fitted {\n",
       "  /* fitted */\n",
       "  background-color: var(--sklearn-color-fitted-level-0);\n",
       "}\n",
       "\n",
       "/* on hover */\n",
       "#sk-container-id-1 div.sk-estimator:hover {\n",
       "  /* unfitted */\n",
       "  background-color: var(--sklearn-color-unfitted-level-2);\n",
       "}\n",
       "\n",
       "#sk-container-id-1 div.sk-estimator.fitted:hover {\n",
       "  /* fitted */\n",
       "  background-color: var(--sklearn-color-fitted-level-2);\n",
       "}\n",
       "\n",
       "/* Specification for estimator info (e.g. \"i\" and \"?\") */\n",
       "\n",
       "/* Common style for \"i\" and \"?\" */\n",
       "\n",
       ".sk-estimator-doc-link,\n",
       "a:link.sk-estimator-doc-link,\n",
       "a:visited.sk-estimator-doc-link {\n",
       "  float: right;\n",
       "  font-size: smaller;\n",
       "  line-height: 1em;\n",
       "  font-family: monospace;\n",
       "  background-color: var(--sklearn-color-background);\n",
       "  border-radius: 1em;\n",
       "  height: 1em;\n",
       "  width: 1em;\n",
       "  text-decoration: none !important;\n",
       "  margin-left: 0.5em;\n",
       "  text-align: center;\n",
       "  /* unfitted */\n",
       "  border: var(--sklearn-color-unfitted-level-1) 1pt solid;\n",
       "  color: var(--sklearn-color-unfitted-level-1);\n",
       "}\n",
       "\n",
       ".sk-estimator-doc-link.fitted,\n",
       "a:link.sk-estimator-doc-link.fitted,\n",
       "a:visited.sk-estimator-doc-link.fitted {\n",
       "  /* fitted */\n",
       "  border: var(--sklearn-color-fitted-level-1) 1pt solid;\n",
       "  color: var(--sklearn-color-fitted-level-1);\n",
       "}\n",
       "\n",
       "/* On hover */\n",
       "div.sk-estimator:hover .sk-estimator-doc-link:hover,\n",
       ".sk-estimator-doc-link:hover,\n",
       "div.sk-label-container:hover .sk-estimator-doc-link:hover,\n",
       ".sk-estimator-doc-link:hover {\n",
       "  /* unfitted */\n",
       "  background-color: var(--sklearn-color-unfitted-level-3);\n",
       "  color: var(--sklearn-color-background);\n",
       "  text-decoration: none;\n",
       "}\n",
       "\n",
       "div.sk-estimator.fitted:hover .sk-estimator-doc-link.fitted:hover,\n",
       ".sk-estimator-doc-link.fitted:hover,\n",
       "div.sk-label-container:hover .sk-estimator-doc-link.fitted:hover,\n",
       ".sk-estimator-doc-link.fitted:hover {\n",
       "  /* fitted */\n",
       "  background-color: var(--sklearn-color-fitted-level-3);\n",
       "  color: var(--sklearn-color-background);\n",
       "  text-decoration: none;\n",
       "}\n",
       "\n",
       "/* Span, style for the box shown on hovering the info icon */\n",
       ".sk-estimator-doc-link span {\n",
       "  display: none;\n",
       "  z-index: 9999;\n",
       "  position: relative;\n",
       "  font-weight: normal;\n",
       "  right: .2ex;\n",
       "  padding: .5ex;\n",
       "  margin: .5ex;\n",
       "  width: min-content;\n",
       "  min-width: 20ex;\n",
       "  max-width: 50ex;\n",
       "  color: var(--sklearn-color-text);\n",
       "  box-shadow: 2pt 2pt 4pt #999;\n",
       "  /* unfitted */\n",
       "  background: var(--sklearn-color-unfitted-level-0);\n",
       "  border: .5pt solid var(--sklearn-color-unfitted-level-3);\n",
       "}\n",
       "\n",
       ".sk-estimator-doc-link.fitted span {\n",
       "  /* fitted */\n",
       "  background: var(--sklearn-color-fitted-level-0);\n",
       "  border: var(--sklearn-color-fitted-level-3);\n",
       "}\n",
       "\n",
       ".sk-estimator-doc-link:hover span {\n",
       "  display: block;\n",
       "}\n",
       "\n",
       "/* \"?\"-specific style due to the `<a>` HTML tag */\n",
       "\n",
       "#sk-container-id-1 a.estimator_doc_link {\n",
       "  float: right;\n",
       "  font-size: 1rem;\n",
       "  line-height: 1em;\n",
       "  font-family: monospace;\n",
       "  background-color: var(--sklearn-color-background);\n",
       "  border-radius: 1rem;\n",
       "  height: 1rem;\n",
       "  width: 1rem;\n",
       "  text-decoration: none;\n",
       "  /* unfitted */\n",
       "  color: var(--sklearn-color-unfitted-level-1);\n",
       "  border: var(--sklearn-color-unfitted-level-1) 1pt solid;\n",
       "}\n",
       "\n",
       "#sk-container-id-1 a.estimator_doc_link.fitted {\n",
       "  /* fitted */\n",
       "  border: var(--sklearn-color-fitted-level-1) 1pt solid;\n",
       "  color: var(--sklearn-color-fitted-level-1);\n",
       "}\n",
       "\n",
       "/* On hover */\n",
       "#sk-container-id-1 a.estimator_doc_link:hover {\n",
       "  /* unfitted */\n",
       "  background-color: var(--sklearn-color-unfitted-level-3);\n",
       "  color: var(--sklearn-color-background);\n",
       "  text-decoration: none;\n",
       "}\n",
       "\n",
       "#sk-container-id-1 a.estimator_doc_link.fitted:hover {\n",
       "  /* fitted */\n",
       "  background-color: var(--sklearn-color-fitted-level-3);\n",
       "}\n",
       "</style><div id=\"sk-container-id-1\" class=\"sk-top-container\"><div class=\"sk-text-repr-fallback\"><pre>Pipeline(steps=[(&#x27;tfidf&#x27;,\n",
       "                 TfidfVectorizer(max_df=0.8, max_features=5000, min_df=5,\n",
       "                                 ngram_range=(1, 2), stop_words=&#x27;english&#x27;)),\n",
       "                (&#x27;classifier&#x27;,\n",
       "                 LogisticRegression(class_weight=&#x27;balanced&#x27;, max_iter=1000,\n",
       "                                    random_state=42))])</pre><b>In a Jupyter environment, please rerun this cell to show the HTML representation or trust the notebook. <br />On GitHub, the HTML representation is unable to render, please try loading this page with nbviewer.org.</b></div><div class=\"sk-container\" hidden><div class=\"sk-item sk-dashed-wrapped\"><div class=\"sk-label-container\"><div class=\"sk-label fitted sk-toggleable\"><input class=\"sk-toggleable__control sk-hidden--visually\" id=\"sk-estimator-id-1\" type=\"checkbox\" ><label for=\"sk-estimator-id-1\" class=\"sk-toggleable__label fitted sk-toggleable__label-arrow\"><div><div>Pipeline</div></div><div><a class=\"sk-estimator-doc-link fitted\" rel=\"noreferrer\" target=\"_blank\" href=\"https://scikit-learn.org/1.6/modules/generated/sklearn.pipeline.Pipeline.html\">?<span>Documentation for Pipeline</span></a><span class=\"sk-estimator-doc-link fitted\">i<span>Fitted</span></span></div></label><div class=\"sk-toggleable__content fitted\"><pre>Pipeline(steps=[(&#x27;tfidf&#x27;,\n",
       "                 TfidfVectorizer(max_df=0.8, max_features=5000, min_df=5,\n",
       "                                 ngram_range=(1, 2), stop_words=&#x27;english&#x27;)),\n",
       "                (&#x27;classifier&#x27;,\n",
       "                 LogisticRegression(class_weight=&#x27;balanced&#x27;, max_iter=1000,\n",
       "                                    random_state=42))])</pre></div> </div></div><div class=\"sk-serial\"><div class=\"sk-item\"><div class=\"sk-estimator fitted sk-toggleable\"><input class=\"sk-toggleable__control sk-hidden--visually\" id=\"sk-estimator-id-2\" type=\"checkbox\" ><label for=\"sk-estimator-id-2\" class=\"sk-toggleable__label fitted sk-toggleable__label-arrow\"><div><div>TfidfVectorizer</div></div><div><a class=\"sk-estimator-doc-link fitted\" rel=\"noreferrer\" target=\"_blank\" href=\"https://scikit-learn.org/1.6/modules/generated/sklearn.feature_extraction.text.TfidfVectorizer.html\">?<span>Documentation for TfidfVectorizer</span></a></div></label><div class=\"sk-toggleable__content fitted\"><pre>TfidfVectorizer(max_df=0.8, max_features=5000, min_df=5, ngram_range=(1, 2),\n",
       "                stop_words=&#x27;english&#x27;)</pre></div> </div></div><div class=\"sk-item\"><div class=\"sk-estimator fitted sk-toggleable\"><input class=\"sk-toggleable__control sk-hidden--visually\" id=\"sk-estimator-id-3\" type=\"checkbox\" ><label for=\"sk-estimator-id-3\" class=\"sk-toggleable__label fitted sk-toggleable__label-arrow\"><div><div>LogisticRegression</div></div><div><a class=\"sk-estimator-doc-link fitted\" rel=\"noreferrer\" target=\"_blank\" href=\"https://scikit-learn.org/1.6/modules/generated/sklearn.linear_model.LogisticRegression.html\">?<span>Documentation for LogisticRegression</span></a></div></label><div class=\"sk-toggleable__content fitted\"><pre>LogisticRegression(class_weight=&#x27;balanced&#x27;, max_iter=1000, random_state=42)</pre></div> </div></div></div></div></div></div>"
      ],
      "text/plain": [
       "Pipeline(steps=[('tfidf',\n",
       "                 TfidfVectorizer(max_df=0.8, max_features=5000, min_df=5,\n",
       "                                 ngram_range=(1, 2), stop_words='english')),\n",
       "                ('classifier',\n",
       "                 LogisticRegression(class_weight='balanced', max_iter=1000,\n",
       "                                    random_state=42))])"
      ]
     },
     "execution_count": 27,
     "metadata": {},
     "output_type": "execute_result"
    }
   ],
   "source": [
    "# TF-IDF + Logistic Regression Pipeline\n",
    "tfidf_pipeline = Pipeline([\n",
    "    ('tfidf', TfidfVectorizer(\n",
    "        max_features=5000,      # Limiting vocabulary size\n",
    "        min_df=5,               # Removing rare words (appear in <5 documents)\n",
    "        max_df=0.8,             # Removing too common words (appear in >80% documents)\n",
    "        ngram_range=(1, 2),     # Using unigrams and bigrams\n",
    "        stop_words='english'    # Removing English stopwords\n",
    "    )),\n",
    "    ('classifier', LogisticRegression(\n",
    "        class_weight='balanced',  # To handle class imbalance\n",
    "        max_iter=1000,\n",
    "        random_state=RANDOM_SEED\n",
    "    ))\n",
    "])\n",
    "\n",
    "# Train the TF-IDF baseline classifier\n",
    "tfidf_pipeline.fit(train_df['abstract'], train_df['label'])"
   ]
  },
  {
   "cell_type": "code",
   "execution_count": 28,
   "metadata": {},
   "outputs": [
    {
     "name": "stdout",
     "output_type": "stream",
     "text": [
      "TF-IDF Statistical Baseline Performance:\n",
      "----------------------------------------\n",
      "Accuracy: 58.16%\n",
      "Macro F1: 52.12%\n",
      "Weighted F1: 57.62%\n"
     ]
    }
   ],
   "source": [
    "# Evaluating on test set\n",
    "tfidf_preds = tfidf_pipeline.predict(test_df['abstract'])\n",
    "tfidf_acc = accuracy_score(test_df['label'], tfidf_preds)\n",
    "tfidf_report = classification_report(test_df['label'], tfidf_preds, output_dict=True)\n",
    "\n",
    "print(\"TF-IDF Statistical Baseline Performance:\")\n",
    "print(\"-\" * 40)\n",
    "print(f\"Accuracy: {tfidf_acc*100:.2f}%\")\n",
    "print(f\"Macro F1: {tfidf_report['macro avg']['f1-score']*100:.2f}%\")\n",
    "print(f\"Weighted F1: {tfidf_report['weighted avg']['f1-score']*100:.2f}%\")"
   ]
  },
  {
   "cell_type": "markdown",
   "metadata": {},
   "source": [
    "> The TF-IDF + Logistic Regression baseline significantly outperforms the rule-based model, achieving 58.16% accuracy and a macro F1 of 52.12%, indicating better generalization across all classes (will check for overfitting too later)"
   ]
  },
  {
   "cell_type": "code",
   "execution_count": 29,
   "metadata": {},
   "outputs": [
    {
     "name": "stdout",
     "output_type": "stream",
     "text": [
      "TF-IDF Per-Class Performance Analysis:\n",
      "============================================================\n",
      "+---------+-------------+----------+------------+-----------+\n",
      "| Class   | Precision   | Recall   | F1-Score   |   Support |\n",
      "+=========+=============+==========+============+===========+\n",
      "| a       | 68.3%       | 59.3%    | 63.5%      |      1944 |\n",
      "+---------+-------------+----------+------------+-----------+\n",
      "| b       | 52.4%       | 50.0%    | 51.2%      |      1773 |\n",
      "+---------+-------------+----------+------------+-----------+\n",
      "| c       | 56.9%       | 78.0%    | 65.8%      |      1075 |\n",
      "+---------+-------------+----------+------------+-----------+\n",
      "| d       | 26.4%       | 57.9%    | 36.3%      |       107 |\n",
      "+---------+-------------+----------+------------+-----------+\n",
      "| e       | 34.4%       | 62.8%    | 44.4%      |       406 |\n",
      "+---------+-------------+----------+------------+-----------+\n",
      "| f       | 46.1%       | 65.0%    | 53.9%      |       956 |\n",
      "+---------+-------------+----------+------------+-----------+\n",
      "| g       | 69.7%       | 63.5%    | 66.5%      |      2904 |\n",
      "+---------+-------------+----------+------------+-----------+\n",
      "| h       | 70.7%       | 69.1%    | 69.9%      |      2757 |\n",
      "+---------+-------------+----------+------------+-----------+\n",
      "| y       | 24.1%       | 14.1%    | 17.8%      |      1430 |\n",
      "+---------+-------------+----------+------------+-----------+\n"
     ]
    }
   ],
   "source": [
    "# TF-IDF Per-Class Performance Analysis\n",
    "print(\"TF-IDF Per-Class Performance Analysis:\")\n",
    "print(\"=\" * 60)\n",
    "\n",
    "# Create detailed per-class comparison table for TF-IDF\n",
    "tfidf_class_performance = []\n",
    "labels = sorted(test_df['label'].unique())\n",
    "\n",
    "for label in labels:\n",
    "    if label in tfidf_report:\n",
    "        tfidf_class_performance.append([\n",
    "            label,\n",
    "            f\"{tfidf_report[label]['precision']*100:.1f}%\",\n",
    "            f\"{tfidf_report[label]['recall']*100:.1f}%\",\n",
    "            f\"{tfidf_report[label]['f1-score']*100:.1f}%\",\n",
    "            int(tfidf_report[label]['support'])\n",
    "        ])\n",
    "\n",
    "headers = [\"Class\", \"Precision\", \"Recall\", \"F1-Score\", \"Support\"]\n",
    "print(tabulate(tfidf_class_performance, headers=headers, tablefmt=\"grid\"))"
   ]
  },
  {
   "cell_type": "markdown",
   "metadata": {},
   "source": [
    ">It also performs especially well on frequent and technical classes like **'h' (Electricity, F1 = 69.9%)**, **'g' (Physics, F1 = 66.5%)**, and **'c' (Chemistry, F1 = 65.8%)**, and even boosts performance on **rare classes** such as **'d' (F1 = 36.3%)** and **'e' (F1 = 44.4%)** but, performance still remains low for general or ambiguous categories like **'y' (F1 = 17.8%)**, suggesting that such classes may require deeper semantic understanding\n"
   ]
  },
  {
   "cell_type": "code",
   "execution_count": 30,
   "metadata": {},
   "outputs": [
    {
     "data": {
      "image/png": "[encoded data removed]",
      "text/plain": [
       "<Figure size 800x600 with 1 Axes>"
      ]
     },
     "metadata": {},
     "output_type": "display_data"
    }
   ],
   "source": [
    "# Confusion Matrix for TF-IDF model\n",
    "tfidf_cm = confusion_matrix(test_df['label'], tfidf_preds, labels=sorted(CPC_DEFINITIONS.keys()))\n",
    "\n",
    "# Plot Confusion Matrix (consistent style)\n",
    "fig, ax = plt.subplots(figsize=(8, 6))\n",
    "sns.heatmap(\n",
    "    tfidf_cm,\n",
    "    annot=True,\n",
    "    fmt=\"d\",\n",
    "    cmap=\"Blues\",\n",
    "    xticklabels=sorted(CPC_DEFINITIONS.keys()),\n",
    "    yticklabels=sorted(CPC_DEFINITIONS.keys()),\n",
    "    cbar=False,\n",
    "    ax=ax\n",
    ")\n",
    "ax.set_xlabel(\"Predicted label\", fontsize=12)\n",
    "ax.set_ylabel(\"True label\", fontsize=12)\n",
    "ax.set_title(\"Confusion Matrix: TF-IDF + Logistic Regression\", fontsize=14)\n",
    "plt.tight_layout()\n",
    "plt.show()\n"
   ]
  },
  {
   "cell_type": "code",
   "execution_count": 31,
   "metadata": {},
   "outputs": [
    {
     "name": "stdout",
     "output_type": "stream",
     "text": [
      "TF-IDF: TP, FP, TN, FN per class\n",
      "+---------+------+------+-------+------+\n",
      "| Class   |   TP |   FP |    TN |   FN |\n",
      "+=========+======+======+=======+======+\n",
      "| a       | 1153 |  535 | 10873 |  791 |\n",
      "+---------+------+------+-------+------+\n",
      "| b       |  886 |  804 | 10775 |  887 |\n",
      "+---------+------+------+-------+------+\n",
      "| c       |  838 |  636 | 11641 |  237 |\n",
      "+---------+------+------+-------+------+\n",
      "| d       |   62 |  173 | 13072 |   45 |\n",
      "+---------+------+------+-------+------+\n",
      "| e       |  255 |  487 | 12459 |  151 |\n",
      "+---------+------+------+-------+------+\n",
      "| f       |  621 |  727 | 11669 |  335 |\n",
      "+---------+------+------+-------+------+\n",
      "| g       | 1844 |  801 |  9647 | 1060 |\n",
      "+---------+------+------+-------+------+\n",
      "| h       | 1905 |  791 |  9804 |  852 |\n",
      "+---------+------+------+-------+------+\n",
      "| y       |  201 |  633 | 11289 | 1229 |\n",
      "+---------+------+------+-------+------+\n"
     ]
    }
   ],
   "source": [
    "# TF-IDF: TP, FP, TN, FN per class\n",
    "y_true = test_df['label']\n",
    "y_pred = tfidf_preds\n",
    "all_classes = sorted(CPC_DEFINITIONS.keys())\n",
    "tfidf_mcm = multilabel_confusion_matrix(y_true, y_pred, labels=all_classes)\n",
    "\n",
    "# Collect TP, FP, TN, FN for each class\n",
    "tfidf_tp_fp_tn_fn = []\n",
    "for idx, class_label in enumerate(all_classes):\n",
    "    tn, fp, fn, tp = tfidf_mcm[idx].ravel()\n",
    "    tfidf_tp_fp_tn_fn.append([class_label, int(tp), int(fp), int(tn), int(fn)])\n",
    "print(\"TF-IDF: TP, FP, TN, FN per class\")\n",
    "print(tabulate(tfidf_tp_fp_tn_fn, headers=['Class', 'TP', 'FP', 'TN', 'FN'], tablefmt='grid'))\n"
   ]
  },
  {
   "cell_type": "markdown",
   "metadata": {},
   "source": [
    "\n",
    "> The TF-IDF model shows strong improvements in true positives for almost all classes compared to the rule-based baseline — notably for **'h' (TP = 1905)**, **'g' (TP = 1844)**, and **'c' (TP = 838)**. \n",
    ">\n",
    "> However, high false positives in overlapping classes like **'b' (FP = 804)** and **'y' (FP = 633)** suggest the model still confuses semantically related domains. Despite this, most rare classes ('d', 'e') have significantly fewer false negatives, showing the model’s improved ability to **recall underrepresented labels**.\n",
    ">\n",
    "> These results reinforce that while rule-based logic provides interpretability, statistical models like TF-IDF + Logistic Regression generalize much better across a large, imbalanced label space.\n"
   ]
  },
  {
   "cell_type": "code",
   "execution_count": 32,
   "metadata": {},
   "outputs": [
    {
     "name": "stdout",
     "output_type": "stream",
     "text": [
      "Most Important TF-IDF Features per CPC Class:\n",
      "\n",
      "Class a (Human Necessities):\n",
      "Top discriminative TF-IDF features:\n",
      "  patient                   (4.872)\n",
      "  surgical                  (4.565)\n",
      "  blood                     (4.111)\n",
      "  toy                       (4.104)\n",
      "  dental                    (4.101)\n",
      "  game                      (3.872)\n",
      "  prosthesis                (3.789)\n",
      "  catheter                  (3.731)\n",
      "  tissue                    (3.676)\n",
      "  bone                      (3.511)\n",
      "\n",
      "Class b (Performing Operations; Transporting):\n",
      "Top discriminative TF-IDF features:\n",
      "  vehicle                   (5.042)\n",
      "  welding                   (3.778)\n",
      "  printing                  (3.665)\n",
      "  polishing                 (3.204)\n",
      "  aircraft                  (3.164)\n",
      "  ink                       (3.049)\n",
      "  truck                     (3.009)\n",
      "  steering                  (3.003)\n",
      "  separation                (2.979)\n",
      "  seat                      (2.858)\n",
      "\n",
      "Class c (Chemistry; Metallurgy):\n",
      "Top discriminative TF-IDF features:\n",
      "  glass                     (3.510)\n",
      "  deposition                (3.244)\n",
      "  compounds                 (2.998)\n",
      "  culture                   (2.857)\n",
      "  cell                      (2.836)\n",
      "  formula                   (2.781)\n",
      "  intermediates             (2.705)\n",
      "  activity                  (2.638)\n",
      "  crystal                   (2.607)\n",
      "  reaction                  (2.466)\n",
      "\n",
      "Class d (Textiles; Paper):\n",
      "Top discriminative TF-IDF features:\n",
      "  pulp                      (6.996)\n",
      "  yarn                      (6.169)\n",
      "  fibers                    (6.005)\n",
      "  machine                   (5.492)\n",
      "  thread                    (5.215)\n",
      "  clothing                  (5.213)\n",
      "  washing                   (5.039)\n",
      "  filaments                 (4.995)\n",
      "  spinning                  (4.910)\n",
      "  paper                     (4.880)\n",
      "\n",
      "Class e (Fixed Constructions):\n",
      "Top discriminative TF-IDF features:\n",
      "  downhole                  (5.818)\n",
      "  concrete                  (5.460)\n",
      "  wellbore                  (4.896)\n",
      "  road                      (4.766)\n",
      "  building                  (4.676)\n",
      "  ladder                    (4.662)\n",
      "  drilling                  (4.369)\n",
      "  borehole                  (4.366)\n",
      "  pool                      (4.360)\n",
      "  door                      (4.352)\n",
      "\n",
      "Class f (Mechanical Engineering):\n",
      "Top discriminative TF-IDF features:\n",
      "  engine                    (4.316)\n",
      "  projectile                (4.245)\n",
      "  weapon                    (4.013)\n",
      "  compressor                (3.770)\n",
      "  combustion                (3.466)\n",
      "  fuel                      (3.362)\n",
      "  firing                    (3.331)\n",
      "  turbine                   (3.224)\n",
      "  light                     (3.193)\n",
      "  pump                      (3.153)\n",
      "\n",
      "Class g (Physics):\n",
      "Top discriminative TF-IDF features:\n",
      "  optical                   (3.403)\n",
      "  display                   (3.281)\n",
      "  toner                     (3.120)\n",
      "  memory                    (3.021)\n",
      "  test                      (2.896)\n",
      "  computer                  (2.872)\n",
      "  disk                      (2.855)\n",
      "  data                      (2.788)\n",
      "  measuring                 (2.657)\n",
      "  measurement               (2.642)\n",
      "\n",
      "Class h (Electricity):\n",
      "Top discriminative TF-IDF features:\n",
      "  network                   (4.693)\n",
      "  semiconductor             (4.535)\n",
      "  antenna                   (3.439)\n",
      "  dielectric                (3.198)\n",
      "  telephone                 (3.152)\n",
      "  video                     (3.029)\n",
      "  communication             (3.025)\n",
      "  circuit                   (2.987)\n",
      "  image                     (2.959)\n",
      "  packet                    (2.869)\n",
      "\n",
      "Class y (General Tagging):\n",
      "Top discriminative TF-IDF features:\n",
      "  valve                     (2.756)\n",
      "  database                  (2.582)\n",
      "  turbine                   (2.434)\n",
      "  data                      (2.413)\n",
      "  tire                      (2.405)\n",
      "  lock                      (2.400)\n",
      "  exhaust                   (2.248)\n",
      "  power                     (2.244)\n",
      "  film                      (1.966)\n",
      "  chuck                     (1.963)\n"
     ]
    }
   ],
   "source": [
    "# TF-IDF Feature Importance Analysis \n",
    "print(\"Most Important TF-IDF Features per CPC Class:\")\n",
    "\n",
    "# feature names and coefficients\n",
    "feature_names = tfidf_pipeline.named_steps['tfidf'].get_feature_names_out()\n",
    "coefficients = tfidf_pipeline.named_steps['classifier'].coef_\n",
    "\n",
    "# For each class, showing top discriminative features\n",
    "class_labels = tfidf_pipeline.named_steps['classifier'].classes_\n",
    "for i, class_label in enumerate(class_labels):\n",
    "    print(f\"\\nClass {class_label} ({CPC_DEFINITIONS[class_label]['name']}):\")\n",
    "    print(\"Top discriminative TF-IDF features:\")\n",
    "    \n",
    "    # coefficients for this class\n",
    "    class_coef = coefficients[i]\n",
    "    \n",
    "    # top positive features (most indicative of this class)\n",
    "    top_indices = np.argsort(class_coef)[-10:][::-1]\n",
    "    top_features = [(feature_names[idx], class_coef[idx]) for idx in top_indices]\n",
    "    \n",
    "    for feature, weight in top_features:\n",
    "        print(f\"  {feature:<25} ({weight:.3f})\")"
   ]
  },
  {
   "cell_type": "markdown",
   "metadata": {},
   "source": [
    "\n",
    "> The top TF-IDF features per CPC class align well with domain expectations. For example, class **'a' (Human Necessities)** is dominated by terms like *patient*, *surgical*, and *prosthesis*, while **'h' (Electricity)** shows features like *semiconductor*, *network*, and *circuit*. This confirms that the logistic regression model is learning interpretable, domain-specific patterns — similar to our rule-based logic, but with greater scalability.\n",
    ">\n",
    "> In contrast, the most common features for class **'y' (General Tagging)** appear less distinctive and often overlap with other domains (*valve*, *data*, *turbine*), reinforcing why this class had the lowest F1-score.\n"
   ]
  },
  {
   "cell_type": "markdown",
   "metadata": {},
   "source": [
    "### Checking performance on train and test to assess overfitting\n",
    "\n",
    "We compare the TF-IDF + Logistic Regression model's accuracy and macro F1 on both the training and test sets to evaluate potential overfitting. A large gap between train and test performance would indicate overfitting, while similar scores suggest good generalization."
   ]
  },
  {
   "cell_type": "code",
   "execution_count": 33,
   "metadata": {},
   "outputs": [
    {
     "data": {
      "image/png": "[encoded data removed]",
      "text/plain": [
       "<Figure size 1200x500 with 2 Axes>"
      ]
     },
     "metadata": {},
     "output_type": "display_data"
    },
    {
     "name": "stdout",
     "output_type": "stream",
     "text": [
      "+-------+------------+------------+\n",
      "| Set   |   Accuracy |   Macro F1 |\n",
      "+=======+============+============+\n",
      "| Train |    67.3793 |    64.0767 |\n",
      "+-------+------------+------------+\n",
      "| Test  |    58.1561 |    52.121  |\n",
      "+-------+------------+------------+\n"
     ]
    }
   ],
   "source": [
    "# Predict on train set\n",
    "tfidf_train_preds = tfidf_pipeline.predict(train_df['abstract'])\n",
    "tfidf_train_acc = accuracy_score(train_df['label'], tfidf_train_preds)\n",
    "tfidf_train_report = classification_report(train_df['label'], tfidf_train_preds, output_dict=True)\n",
    "\n",
    "tfidf_perf_df = pd.DataFrame({\n",
    "    'Set': ['Train', 'Test'],\n",
    "    'Accuracy': [tfidf_train_acc * 100, tfidf_acc * 100],\n",
    "    'Macro F1': [tfidf_train_report['macro avg']['f1-score'] * 100, tfidf_report['macro avg']['f1-score'] * 100]\n",
    "})\n",
    "\n",
    "fig, axes = plt.subplots(1, 2, figsize=(12, 5))\n",
    "sns.set_palette(\"Set2\")\n",
    "\n",
    "# Accuracy plot\n",
    "sns.barplot(x='Set', y='Accuracy', data=tfidf_perf_df, ax=axes[0])\n",
    "axes[0].set_title('TF-IDF + LogReg Accuracy', fontsize=14)\n",
    "axes[0].set_ylabel('Accuracy (%)', fontsize=12)\n",
    "axes[0].set_xlabel('')\n",
    "axes[0].set_ylim(0, 100)\n",
    "for i, v in enumerate(tfidf_perf_df['Accuracy']):\n",
    "    axes[0].annotate(f\"{v:.1f}%\", (i, v + 1), ha='center', va='bottom', fontsize=11, color='black',\n",
    "                     bbox=dict(facecolor='white', edgecolor='gray', boxstyle='round,pad=0.2'))\n",
    "\n",
    "# Macro F1 plot\n",
    "sns.barplot(x='Set', y='Macro F1', data=tfidf_perf_df, ax=axes[1])\n",
    "axes[1].set_title('TF-IDF + LogReg Macro F1', fontsize=14)\n",
    "axes[1].set_ylabel('Macro F1 (%)', fontsize=12)\n",
    "axes[1].set_xlabel('')\n",
    "axes[1].set_ylim(0, 100)\n",
    "for i, v in enumerate(tfidf_perf_df['Macro F1']):\n",
    "    axes[1].annotate(f\"{v:.1f}%\", (i, v + 1), ha='center', va='bottom', fontsize=11, color='black',\n",
    "                     bbox=dict(facecolor='white', edgecolor='gray', boxstyle='round,pad=0.2'))\n",
    "\n",
    "plt.tight_layout()\n",
    "plt.show()\n",
    "\n",
    "print(tabulate(tfidf_perf_df, headers='keys', tablefmt='grid', showindex=False))\n"
   ]
  },
  {
   "cell_type": "markdown",
   "metadata": {},
   "source": [
    "> The model performs better on the training set, as expected, but the drop to the test set is moderate. This suggests some overfitting, but the model still generalizes reasonably well given the dataset's size and class imbalance. Further regularization or advanced models may help close this gap."
   ]
  },
  {
   "cell_type": "markdown",
   "metadata": {
    "vscode": {
     "languageId": "markdown"
    }
   },
   "source": [
    "### Baseline Performance Comparison: Random, Rule-Based, and TF-IDF Approaches"
   ]
  },
  {
   "cell_type": "code",
   "execution_count": 34,
   "metadata": {},
   "outputs": [
    {
     "name": "stdout",
     "output_type": "stream",
     "text": [
      "Complete Performance Comparison: All Baseline Approaches\n",
      "======================================================================\n",
      "                    accuracy   macro_f1              approach\n",
      "Stratified Random      15.74      11.22  Statistical baseline\n",
      "Most Frequent          20.65        3.8        Naive baseline\n",
      "Rule-Based         32.272319  28.092808      Domain knowledge\n",
      "TF-IDF + LogReg    58.156081  52.121003        Statistical ML\n"
     ]
    }
   ],
   "source": [
    "# Complete Performance Comparison: All Approaches\n",
    "print(\"Complete Performance Comparison: All Baseline Approaches\")\n",
    "print(\"=\" * 70)\n",
    "\n",
    "complete_results = {\n",
    "    'Stratified Random': {\n",
    "        'accuracy': 15.74,\n",
    "        'macro_f1': 11.22,\n",
    "        'approach': 'Statistical baseline'\n",
    "    },\n",
    "    'Most Frequent': {\n",
    "        'accuracy': 20.65,\n",
    "        'macro_f1': 3.80,\n",
    "        'approach': 'Naive baseline'\n",
    "    },\n",
    "    'Rule-Based': {\n",
    "        'accuracy': rule_based_accuracy * 100,\n",
    "        'macro_f1': rule_based_report['macro avg']['f1-score'] * 100,\n",
    "        'approach': 'Domain knowledge'\n",
    "    },\n",
    "    'TF-IDF + LogReg': {\n",
    "        'accuracy': tfidf_acc * 100,\n",
    "        'macro_f1': tfidf_report['macro avg']['f1-score'] * 100,\n",
    "        'approach': 'Statistical ML'\n",
    "    }\n",
    "}\n",
    "\n",
    "complete_comparison_df = pd.DataFrame(complete_results).T.round(2)\n",
    "print(complete_comparison_df)\n"
   ]
  },
  {
   "cell_type": "code",
   "execution_count": 35,
   "metadata": {},
   "outputs": [
    {
     "data": {
      "image/png": "[encoded data removed]",
      "text/plain": [
       "<Figure size 1400x600 with 2 Axes>"
      ]
     },
     "metadata": {},
     "output_type": "display_data"
    }
   ],
   "source": [
    "# visualization with all 4 approaches\n",
    "fig, (ax1, ax2) = plt.subplots(1, 2, figsize=(14, 6))\n",
    "\n",
    "methods = list(complete_results.keys())\n",
    "accuracies = [complete_results[method]['accuracy'] for method in methods]\n",
    "f1_scores = [complete_results[method]['macro_f1'] for method in methods]\n",
    "colors = ['lightcoral', 'lightblue', 'lightgreen', 'gold']\n",
    "\n",
    "# Accuracy comparison\n",
    "bars1 = ax1.bar(methods, accuracies, color=colors)\n",
    "ax1.set_title('Accuracy Comparison - All Approaches')\n",
    "ax1.set_ylabel('Accuracy (%)')\n",
    "ax1.set_ylim(0, max(accuracies) * 1.15)\n",
    "for bar, acc in zip(bars1, accuracies):\n",
    "    ax1.text(bar.get_x() + bar.get_width()/2, bar.get_height() + 0.5,\n",
    "             f'{acc:.1f}%', ha='center', va='bottom')\n",
    "\n",
    "# F1 comparison\n",
    "bars2 = ax2.bar(methods, f1_scores, color=colors)\n",
    "ax2.set_title('Macro F1-Score Comparison - All Approaches')\n",
    "ax2.set_ylabel('Macro F1 (%)')\n",
    "ax2.set_ylim(0, max(f1_scores) * 1.15)\n",
    "for bar, f1 in zip(bars2, f1_scores):\n",
    "    ax2.text(bar.get_x() + bar.get_width()/2, bar.get_height() + 0.5,\n",
    "             f'{f1:.1f}%', ha='center', va='bottom')\n",
    "\n",
    "# Ensure x-axis labels are horizontal\n",
    "for ax in [ax1, ax2]:\n",
    "    ax.set_xticklabels(methods, rotation=0)\n",
    "\n",
    "plt.tight_layout()\n",
    "plt.show()"
   ]
  },
  {
   "cell_type": "markdown",
   "metadata": {},
   "source": [
    "> **Notes:**  \n",
    "> - **TF-IDF + Logistic Regression** achieves the highest baseline: **58.2% accuracy**, **52.1% macro F1**.  \n",
    "> - **Rule-based classifier**: **32.3% accuracy**, **28.1% macro F1**—shows domain knowledge helps, but is limited.  \n",
    "> - **Stratified random** and **most frequent**: macro F1 below **12%**, highlighting task difficulty and class imbalance.  \n",
    "> - These baselines demonstrate the value of interpretable rules and motivate advanced models for better generalization.\n"
   ]
  }
 ],
 "metadata": {
  "kernelspec": {
   "display_name": "Advanced NLP (Poetry)",
   "language": "python",
   "name": "advancednlp"
  },
  "language_info": {
   "codemirror_mode": {
    "name": "ipython",
    "version": 3
   },
   "file_extension": ".py",
   "mimetype": "text/x-python",
   "name": "python",
   "nbconvert_exporter": "python",
   "pygments_lexer": "ipython3",
   "version": "3.12.4"
  }
 },
 "nbformat": 4,
 "nbformat_minor": 4
}
